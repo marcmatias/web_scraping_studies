{
 "cells": [
  {
   "cell_type": "code",
   "execution_count": 48,
   "metadata": {},
   "outputs": [
    {
     "output_type": "stream",
     "name": "stdout",
     "text": [
      "Error 'FirefoxWebElement' object has no attribute 'txt'\n"
     ]
    }
   ],
   "source": [
    "# import libraries\n",
    "import urllib.request\n",
    "from bs4 import BeautifulSoup\n",
    "from selenium import webdriver\n",
    "from selenium.webdriver.firefox.options import Options\n",
    "import time\n",
    "import pandas as pd\n",
    "\n",
    "options = Options()\n",
    "options.headless = True\n",
    "\n",
    "# specify the url\n",
    "urlpage = 'https://www.covid-19.pa.gov.br/#/' \n",
    "\n",
    "# run firefox webdriver from executable path of your choice\n",
    "driver = webdriver.Firefox(options=options, executable_path = 'C:/Program Files/gecko/geckodriver.exe')\n",
    "\n",
    "# get web page\n",
    "driver.get(urlpage)\n",
    "\n",
    "# Xpath:\n",
    "results = driver.find_elements_by_xpath(\"//*[@class='q-table__container q-table--horizontal-separator column no-wrap q-table__card q-table--flat']\")\n",
    "try:\n",
    "    print('Number of results', results)\n",
    "except Exception as e:\n",
    "    print('Error', e)\n",
    "    driver.quit()\n"
   ]
  }
 ],
 "metadata": {
  "kernelspec": {
   "name": "python388jvsc74a57bd09bcfbcb8ab2cb80a481072a3cca9f0f9f1b765920b23f0e202d2d845decbede7",
   "display_name": "Python 3.8.8 64-bit"
  },
  "language_info": {
   "codemirror_mode": {
    "name": "ipython",
    "version": 3
   },
   "file_extension": ".py",
   "mimetype": "text/x-python",
   "name": "python",
   "nbconvert_exporter": "python",
   "pygments_lexer": "ipython3",
   "version": "3.8.8"
  }
 },
 "nbformat": 4,
 "nbformat_minor": 5
}