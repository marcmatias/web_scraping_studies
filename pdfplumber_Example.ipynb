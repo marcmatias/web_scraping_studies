{
 "metadata": {
  "language_info": {
   "codemirror_mode": {
    "name": "ipython",
    "version": 3
   },
   "file_extension": ".py",
   "mimetype": "text/x-python",
   "name": "python",
   "nbconvert_exporter": "python",
   "pygments_lexer": "ipython3",
   "version": "3.8.8"
  },
  "orig_nbformat": 2,
  "kernelspec": {
   "name": "python388jvsc74a57bd0b70ed7e650cf6e24fa8958d8fbd2a8b992a04cad0b1899b9611af04932cb1fa9",
   "display_name": "Python 3.8.8 64-bit ('myenv')"
  }
 },
 "nbformat": 4,
 "nbformat_minor": 2,
 "cells": [
  {
   "cell_type": "code",
   "execution_count": 104,
   "metadata": {
    "tags": []
   },
   "outputs": [
    {
     "output_type": "stream",
     "name": "stdout",
     "text": [
      "Data extraction date : 26/04/2021\n",
      "['MUNICÍPIO DE RESIDÊNCIA', 'CASOS SUSPEITOS', None, None, None, 'CASOS \\nDESCARTADO', 'CASOS \\nIGNORADOS', 'CASOS CONFIRMADOS', None, None, None, 'ÓBITOS EM \\nINVESTIGAÇÃO', 'ÓBITOS \\nDESCARTADOS', 'ÓBITOS CONFIRMADOS', None, None, None]\n",
      "['N', '', 'TAXA DE', '', 'N', '', 'INCIDÊNCIA', '', 'N', '', 'MORTALIDA', '']\n",
      "['POR 100.000', '100.000', '100.000']\n",
      "['HAB', 'HAB', 'HAB']\n",
      "[None, '84', '1282,6', None, None, '408', '132', '289', '4412,9', None, None, '1', '0', '9', None, None, None]\n"
     ]
    }
   ],
   "source": [
    "import re\n",
    "import pdfplumber\n",
    "\n",
    "import pandas as pd\n",
    "\n",
    "import requests\n",
    "from io import BytesIO\n",
    "\n",
    "# Request and Open PDF file\n",
    "try:\n",
    "    rq = requests.get(\"http://www.adcon.rn.gov.br/ACERVO/sesap/DOC/DOC000000000256248.PDF\")\n",
    "    pdf_data = pdfplumber.open(BytesIO(rq.content))\n",
    "except Exception as e:\n",
    "    print(e)\n",
    "\n",
    "# Extracting date\n",
    "match = re.search(\n",
    "    r'([0-2][0-9]|(3)[0-1])(\\/)(((0)[0-9])|((1)[0-2]))(\\/)\\d{4}',\n",
    "    pdf_data.pages[0].extract_text()\n",
    ")\n",
    "\n",
    "print(\"Data extraction date :\", match.group(0))\n",
    "\n",
    "pages = pdf_data.pages\n",
    "table = pages[7].extract_tables()\n",
    "header = [el for el in table[0][0]]\n",
    "header2 = [el.replace('\\n', '') for el in table[0][1] if el != None]\n",
    "header3 = [el.replace('\\n', '') for el in table[0][3] if el != None]\n",
    "header4 = [el.replace('\\n', '') for el in table[0][4] if el != None]\n",
    "header5 = [el for el in table[0][5]]\n",
    "header6 = [el for el in table[0][6]]\n",
    "print(header)\n",
    "print(header2)\n",
    "print(header3)\n",
    "print(header4)\n",
    "print(header5)\n",
    "print(header6)\n",
    "#for i in range(7,11):\n",
    "#    df = pd.DataFrame(tbl, column)\n",
    "#    display(df)\n",
    "#    print(tbl)\n",
    "\n",
    "pdf_data.close()"
   ]
  }
 ]
}