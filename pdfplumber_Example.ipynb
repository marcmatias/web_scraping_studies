{
 "metadata": {
  "language_info": {
   "codemirror_mode": {
    "name": "ipython",
    "version": 3
   },
   "file_extension": ".py",
   "mimetype": "text/x-python",
   "name": "python",
   "nbconvert_exporter": "python",
   "pygments_lexer": "ipython3",
   "version": "3.8.8"
  },
  "orig_nbformat": 2,
  "kernelspec": {
   "name": "python388jvsc74a57bd09ebd6828ea59e2beeb7124697658ae9b6022b4594ded89576638a0382040f87e",
   "display_name": "Python 3.8.8 64-bit"
  }
 },
 "nbformat": 4,
 "nbformat_minor": 2,
 "cells": [
  {
   "cell_type": "code",
   "execution_count": 5,
   "metadata": {
    "tags": []
   },
   "outputs": [
    {
     "output_type": "stream",
     "name": "stdout",
     "text": [
      "Data extraction date : \n9646\n\n"
     ]
    }
   ],
   "source": [
    "import re\n",
    "import pdfplumber\n",
    "\n",
    "import pandas as pd\n",
    "\n",
    "import requests\n",
    "from io import BytesIO\n",
    "\n",
    "# Request and Open PDF file\n",
    "try:\n",
    "    rq = requests.get(\"https://www.saude.ma.gov.br/wp-content/uploads/2021/03/BOLETIM-07-03.pdf\")\n",
    "    pdf_data = pdfplumber.open(BytesIO(rq.content))\n",
    "except Exception as e:\n",
    "    print(e)\n",
    "\n",
    "print(pdf_data.pages[0].extract_text())\n",
    "\n",
    "# Extracting date\n",
    "match = re.search(r'\\s\\d{4}\\s',pdf_data.pages[0].extract_text()).group(0)\n",
    "\n",
    "print(\"Data extraction date :\", match)\n",
    "\n",
    "pdf_data.close()\n",
    "# pages = pdf_data.pages\n",
    "# table = pages[7].extract_tables()\n",
    "# header = [el for el in table[0][0]]\n",
    "# header2 = [el.replace('\\n', '') for el in table[0][1] if el != None]\n",
    "# header3 = [el.replace('\\n', '') for el in table[0][3] if el != None]\n",
    "# header4 = [el.replace('\\n', '') for el in table[0][4] if el != None]\n",
    "# header5 = [el for el in table[0][5]]\n",
    "# header6 = [el for el in table[0][6]]\n",
    "# print(header)\n",
    "# print(header2)\n",
    "# print(header3)\n",
    "# print(header4)\n",
    "# print(header5)\n",
    "# print(header6)\n",
    "# #for i in range(7,11):\n",
    "#    df = pd.DataFrame(tbl, column)\n",
    "#    display(df)\n",
    "#    print(tbl)\n"
   ]
  }
 ]
}