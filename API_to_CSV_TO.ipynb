{
 "metadata": {
  "language_info": {
   "codemirror_mode": {
    "name": "ipython",
    "version": 3
   },
   "file_extension": ".py",
   "mimetype": "text/x-python",
   "name": "python",
   "nbconvert_exporter": "python",
   "pygments_lexer": "ipython3",
   "version": "3.8.8"
  },
  "orig_nbformat": 2,
  "kernelspec": {
   "name": "python388jvsc74a57bd09bcfbcb8ab2cb80a481072a3cca9f0f9f1b765920b23f0e202d2d845decbede7",
   "display_name": "Python 3.8.8 64-bit"
  }
 },
 "nbformat": 4,
 "nbformat_minor": 2,
 "cells": [
  {
   "cell_type": "code",
   "execution_count": 2,
   "metadata": {
    "tags": []
   },
   "outputs": [],
   "source": [
    "import csv\n",
    "import json\n",
    "from urllib.request import urlopen\n",
    "\n",
    "output_filename = \"tocantins.csv\"\n",
    "\n",
    "url_casos_totais = \"http://integra.saude.to.gov.br/Api/GetReleasesCovid?id=247\"\n",
    "url_obitos_totais = \"http://integra.saude.to.gov.br/Api/GetReleasesCovid?id=249\"\n",
    "url_municipios = \"http://integra.saude.to.gov.br/Api/GetReleasesCovid?id=250\"\n",
    "\n",
    "def download_data(url):\n",
    "    response = json.loads(urlopen(url).read())\n",
    "    data = json.loads(response[\"Retorno\"])\n",
    "    header = [item[\"colName\"] for item in data[\"metadata\"]]\n",
    "    values = data[\"resultset\"]\n",
    "    result = []\n",
    "    for row in values:\n",
    "        row = dict(zip(header, row))\n",
    "        result.append(row)\n",
    "    return result\n",
    "\n",
    "casos_totais = download_data(url_casos_totais)\n",
    "obitos_totais = download_data(url_obitos_totais)\n",
    "municipios = download_data(url_municipios)\n",
    "\n",
    "with open(output_filename, mode=\"w\", encoding=\"utf-8\") as fobj:\n",
    "    writer = csv.DictWriter(fobj, fieldnames=[\"municipio\", \"confirmados\", \"obitos\"])\n",
    "    writer.writeheader()\n",
    "    writer.writerow(\n",
    "        {\n",
    "            \"municipio\": \"TOTAL NO ESTADO\",\n",
    "            \"confirmados\": casos_totais[0][\"Casos Confirmados\"],\n",
    "            \"obitos\": obitos_totais[0][\"Óbitos\"],\n",
    "        }\n",
    "    )\n",
    "    for municipio in municipios:\n",
    "        nome = municipio[\"Município\"]\n",
    "        if nome == \"Fortaleza do Tabocão\":\n",
    "            nome = \"Tabocão\"\n",
    "        writer.writerow(\n",
    "            {\n",
    "                \"municipio\": nome,\n",
    "                \"confirmados\": municipio[\"Casos Confirmados\"],\n",
    "                \"obitos\": municipio[\"Óbitos\"],\n",
    "            }\n",
    "        )"
   ]
  }
 ]
}