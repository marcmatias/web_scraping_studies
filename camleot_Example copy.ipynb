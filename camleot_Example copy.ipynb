{
 "metadata": {
  "language_info": {
   "codemirror_mode": {
    "name": "ipython",
    "version": 3
   },
   "file_extension": ".py",
   "mimetype": "text/x-python",
   "name": "python",
   "nbconvert_exporter": "python",
   "pygments_lexer": "ipython3",
   "version": "3.8.8"
  },
  "orig_nbformat": 2,
  "kernelspec": {
   "name": "python388jvsc74a57bd0b70ed7e650cf6e24fa8958d8fbd2a8b992a04cad0b1899b9611af04932cb1fa9",
   "display_name": "Python 3.8.8 64-bit ('myenv')"
  }
 },
 "nbformat": 4,
 "nbformat_minor": 2,
 "cells": [
  {
   "cell_type": "code",
   "execution_count": 1550,
   "metadata": {},
   "outputs": [],
   "source": [
    "import camelot\r\n",
    "from io import BytesIO\r\n",
    "import pdfplumber\r\n",
    "import re\r\n",
    "import requests"
   ]
  },
  {
   "cell_type": "code",
   "execution_count": 1551,
   "metadata": {},
   "outputs": [],
   "source": [
    "# Request and Open PDF file\n",
    "try:\n",
    "    rq = requests.get(\"http://www.adcon.rn.gov.br/ACERVO/sesap/DOC/DOC000000000256248.PDF\")\n",
    "    pdf_data = pdfplumber.open(BytesIO(rq.content))\n",
    "except Exception as e:\n",
    "    print(e)\n",
    "\n",
    "# Extracting date\n",
    "match = re.search(\n",
    "    r'([0-2][0-9]|(3)[0-1])(\\/)(((0)[0-9])|((1)[0-2]))(\\/)\\d{4}',\n",
    "    pdf_data.pages[0].extract_text()\n",
    ")\n",
    "\n",
    "# Output file name\n",
    "pdf_extract_date = match.group(0)"
   ]
  },
  {
   "cell_type": "code",
   "execution_count": 1552,
   "metadata": {},
   "outputs": [],
   "source": [
    "def pdf_to_tables(pdf_path, pages):\n",
    "    return camelot.read_pdf(pdf_path, pages=pages)"
   ]
  },
  {
   "cell_type": "code",
   "execution_count": 1553,
   "metadata": {},
   "outputs": [],
   "source": [
    "def format_table(data_frame):\n",
    "    data_frame.replace('\\n','', regex=True, inplace=True)\n",
    "    # Fix columns names\n",
    "    for col in range(len(list(data_frame))):\n",
    "        col_name = data_frame.get(col)[0] if data_frame.get(col)[0] != \"\" else data_frame.get(col)[1]\n",
    "        data_frame.rename(columns={col: col_name}, inplace=True)\n",
    "    # Drop unecessary rows, reset index to start by 0, get only necessary columns rename columns with Brasil.io pattern\n",
    "    data_frame = data_frame.drop([0,1]).reset_index(drop=True)[[\"MUNICÍPIO DE RESIDÊNCIA\", \"CASOS CONFIRMADOS\", \"ÓBITOS CONFIRMADOS\"]].rename(columns={\"MUNICÍPIO DE RESIDÊNCIA\": \"municipio\", \"CASOS CONFIRMADOS\": \"confirmados\", \"ÓBITOS CONFIRMADOS\": \"mortes\"})\n",
    "    # Change specific city name when occurs\n",
    "    if 'AUGUSTO SEVERO (CAMPO GRANDE)' in data_frame.municipio.values:\n",
    "        data_frame.replace(\"AUGUSTO SEVERO (CAMPO GRANDE)\", \"CAMPO GRANDE\", inplace=True)\n",
    "    elif 'JANUÁRIO CICCO (BOA SAÚDE)' in data_frame.municipio.values:\n",
    "        data_frame.replace(\"JANUÁRIO CICCO (BOA SAÚDE)\", \"JANUÁRIO CICCO\", inplace=True)\n",
    "    data_frame[\"municipio\"] = data_frame[\"municipio\"].str.title()\n",
    "    return data_frame"
   ]
  },
  {
   "cell_type": "code",
   "execution_count": 1554,
   "metadata": {},
   "outputs": [],
   "source": [
    "def add_new_row(data_frame, name_row, t_confirmado, t_obito):\n",
    "    data_frame.loc[-1] = [name_row, t_confirmado, t_obito]  # adding a row\n",
    "    data_frame.index = data_frame.index + 1  # shifting index\n",
    "    return data_frame.sort_index()  # sorting by index"
   ]
  },
  {
   "cell_type": "code",
   "execution_count": 1555,
   "metadata": {},
   "outputs": [],
   "source": [
    "def compare_values(val, val_local, val_gov):\n",
    "    return int(val) + int(val_local) == int(val_gov)"
   ]
  },
  {
   "cell_type": "code",
   "execution_count": 1556,
   "metadata": {},
   "outputs": [],
   "source": [
    "# Generate tables from a url\n",
    "tables = pdf_to_tables(\"http://www.adcon.rn.gov.br/ACERVO/sesap/DOC/DOC000000000256248.PDF\", \"all\")\n",
    "\n",
    "# Iterate all tables\n",
    "for i in range(5,11):\n",
    "    if i == 5:\n",
    "        data_frame = format_table(tables[i].df)\n",
    "    else:\n",
    "        data_frame = data_frame.append(format_table(tables[i].df), ignore_index=True)\n",
    "\n",
    "# Display dev\n",
    "# display(data_frame)\n",
    "\n",
    "# Getting total numbers\n",
    "total_conf_local = data_frame.at[168, \"confirmados\"]\n",
    "total_morte_local = data_frame.at[168, \"mortes\"]\n",
    "total_conf_gov = data_frame.at[169, \"confirmados\"]\n",
    "total_morte_gov = data_frame.at[169, \"mortes\"]\n",
    "\n",
    "# Remove unecessary 3 last lines\n",
    "data_frame.drop(data_frame.tail(3).index, inplace=True)\n",
    "\n",
    "# Sum total numbers\n",
    "total_conf = data_frame[\"confirmados\"].astype(int).sum()\n",
    "total_morte = data_frame[\"mortes\"].astype(int).sum()\n",
    "\n",
    "# Compare sum totals with gov totals\n",
    "result_total = compare_values(total_conf, total_conf_local, total_conf_gov)\n",
    "result_morte = compare_values(total_morte, total_morte_local, total_morte_gov)\n",
    "\n",
    "# Add values and generate csv if compared values are equals\n",
    "if (result_total and result_morte):\n",
    "    # Adding new row to data_frame with total numbers\n",
    "    data_frame = add_new_row(data_frame, \"Importados/Indefinidos\", total_conf_local, total_morte_local)\n",
    "    data_frame = add_new_row(data_frame, \"TOTAL NO ESTADO\", int(total_conf) + int(total_conf_local), int(total_morte) + int(total_morte_local))\n",
    "    # Generate csv\n",
    "    file_name = 'rio_grande_do_norte_%s.csv' %pdf_extract_date.replace(\"/\", \"-\")\n",
    "    data_frame.to_csv(file_name, line_terminator=None, index=False)\n",
    "else:\n",
    "    if result_total != True:\n",
    "        print(\"Comparativo confirmados retornou valores diferentes:\", int(total_conf) + int(total_conf_local), total_conf_gov)\n",
    "    else: \n",
    "        print(\"Comparativo mortes retornou valores diferentes:\", int(total_morte) + int(total_morte_local), total_morte_gov)"
   ]
  }
 ]
}