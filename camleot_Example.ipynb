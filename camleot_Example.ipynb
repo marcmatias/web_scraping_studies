{
 "metadata": {
  "language_info": {
   "codemirror_mode": {
    "name": "ipython",
    "version": 3
   },
   "file_extension": ".py",
   "mimetype": "text/x-python",
   "name": "python",
   "nbconvert_exporter": "python",
   "pygments_lexer": "ipython3",
   "version": "3.8.8"
  },
  "orig_nbformat": 2,
  "kernelspec": {
   "name": "python388jvsc74a57bd0b70ed7e650cf6e24fa8958d8fbd2a8b992a04cad0b1899b9611af04932cb1fa9",
   "display_name": "Python 3.8.8 64-bit ('myenv')"
  }
 },
 "nbformat": 4,
 "nbformat_minor": 2,
 "cells": [
  {
   "cell_type": "code",
   "execution_count": 21,
   "metadata": {},
   "outputs": [],
   "source": [
    "import camelot"
   ]
  },
  {
   "cell_type": "code",
   "execution_count": 22,
   "metadata": {},
   "outputs": [
    {
     "output_type": "execute_result",
     "data": {
      "text/plain": [
       "(<TableList n=1>, 1)"
      ]
     },
     "metadata": {},
     "execution_count": 22
    }
   ],
   "source": [
    "tables = camelot.read_pdf(\"foo.pdf\", pages='all')\n",
    "tables, len(tables)"
   ]
  },
  {
   "cell_type": "code",
   "execution_count": 23,
   "metadata": {},
   "outputs": [
    {
     "output_type": "stream",
     "name": "stdout",
     "text": [
      "{'accuracy': 99.02, 'whitespace': 12.24, 'order': 1, 'page': 1}\n"
     ]
    }
   ],
   "source": [
    "for i in range(len(tables)):\n",
    "    print(tables[i].parsing_report)"
   ]
  },
  {
   "cell_type": "code",
   "execution_count": 34,
   "metadata": {},
   "outputs": [
    {
     "output_type": "stream",
     "name": "stdout",
     "text": [
      "\nTabela 1:\n"
     ]
    },
    {
     "output_type": "display_data",
     "data": {
      "text/plain": "              0            1                2                     3  \\\n0  Cycle \\nName  KI \\n(1/km)  Distance \\n(mi)  Percent Fuel Savings   \n1                                                  Improved \\nSpeed   \n2        2012_2         3.30              1.3                  5.9%   \n3        2145_1         0.68             11.2                  2.4%   \n4        4234_1         0.59             58.7                  8.5%   \n5        2032_2         0.17             57.8                 21.7%   \n6        4171_1         0.07            173.9                 58.1%   \n\n                   4                  5                 6  \n0                                                          \n1  Decreased \\nAccel  Eliminate \\nStops  Decreased \\nIdle  \n2               9.5%              29.2%             17.4%  \n3               0.1%               9.5%              2.7%  \n4               1.3%               8.5%              3.3%  \n5               0.3%               2.7%              1.2%  \n6               1.6%               2.1%              0.5%  ",
      "text/html": "<div>\n<style scoped>\n    .dataframe tbody tr th:only-of-type {\n        vertical-align: middle;\n    }\n\n    .dataframe tbody tr th {\n        vertical-align: top;\n    }\n\n    .dataframe thead th {\n        text-align: right;\n    }\n</style>\n<table border=\"1\" class=\"dataframe\">\n  <thead>\n    <tr style=\"text-align: right;\">\n      <th></th>\n      <th>0</th>\n      <th>1</th>\n      <th>2</th>\n      <th>3</th>\n      <th>4</th>\n      <th>5</th>\n      <th>6</th>\n    </tr>\n  </thead>\n  <tbody>\n    <tr>\n      <th>0</th>\n      <td>Cycle \\nName</td>\n      <td>KI \\n(1/km)</td>\n      <td>Distance \\n(mi)</td>\n      <td>Percent Fuel Savings</td>\n      <td></td>\n      <td></td>\n      <td></td>\n    </tr>\n    <tr>\n      <th>1</th>\n      <td></td>\n      <td></td>\n      <td></td>\n      <td>Improved \\nSpeed</td>\n      <td>Decreased \\nAccel</td>\n      <td>Eliminate \\nStops</td>\n      <td>Decreased \\nIdle</td>\n    </tr>\n    <tr>\n      <th>2</th>\n      <td>2012_2</td>\n      <td>3.30</td>\n      <td>1.3</td>\n      <td>5.9%</td>\n      <td>9.5%</td>\n      <td>29.2%</td>\n      <td>17.4%</td>\n    </tr>\n    <tr>\n      <th>3</th>\n      <td>2145_1</td>\n      <td>0.68</td>\n      <td>11.2</td>\n      <td>2.4%</td>\n      <td>0.1%</td>\n      <td>9.5%</td>\n      <td>2.7%</td>\n    </tr>\n    <tr>\n      <th>4</th>\n      <td>4234_1</td>\n      <td>0.59</td>\n      <td>58.7</td>\n      <td>8.5%</td>\n      <td>1.3%</td>\n      <td>8.5%</td>\n      <td>3.3%</td>\n    </tr>\n    <tr>\n      <th>5</th>\n      <td>2032_2</td>\n      <td>0.17</td>\n      <td>57.8</td>\n      <td>21.7%</td>\n      <td>0.3%</td>\n      <td>2.7%</td>\n      <td>1.2%</td>\n    </tr>\n    <tr>\n      <th>6</th>\n      <td>4171_1</td>\n      <td>0.07</td>\n      <td>173.9</td>\n      <td>58.1%</td>\n      <td>1.6%</td>\n      <td>2.1%</td>\n      <td>0.5%</td>\n    </tr>\n  </tbody>\n</table>\n</div>"
     },
     "metadata": {}
    },
    {
     "output_type": "stream",
     "name": "stdout",
     "text": [
      "{\n"
     ]
    }
   ],
   "source": [
    "for i in range(len(tables)):\n",
    "    print(f\"\\nTabela {i+1}:\")\n",
    "    result = tables[i].df\n",
    "    display(result)\n",
    "    print(tables[i].df.to_json(orient='split')[0])\n"
   ]
  }
 ]
}