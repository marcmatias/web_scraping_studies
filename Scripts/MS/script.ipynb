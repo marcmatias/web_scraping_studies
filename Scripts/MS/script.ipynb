{
 "cells": [
  {
   "cell_type": "code",
   "execution_count": 1,
   "metadata": {},
   "outputs": [],
   "source": [
    "import camelot\r\n",
    "import re"
   ]
  },
  {
   "cell_type": "code",
   "execution_count": 2,
   "metadata": {},
   "outputs": [],
   "source": [
    "def pdf_tables(date):\n",
    "    url = f\"https://www.vs.saude.ms.gov.br/wp-content/uploads/{date['year']}/{date[ 'month']}/Boletim-Epidemiologico-COVID-19-{date['year']}.{date['month']}.{date['day']}.pdf\"\n",
    "    tables = camelot.read_pdf(url, pages=\"all\", strip_text=\"▼, ▲, \\n\") # 18, 19, 20, 33, 34, 35, 36\n",
    "    return tables"
   ]
  },
  {
   "cell_type": "code",
   "execution_count": 3,
   "metadata": {},
   "outputs": [],
   "source": [
    "def add_new_row(data_frame, name_row, t_confirmado, t_obito):\n",
    "    data_frame.loc[-1] = [name_row, t_confirmado, t_obito]  # adding a row\n",
    "    data_frame.index = data_frame.index + 1  # shifting index\n",
    "    return data_frame.sort_index()  # sorting by index"
   ]
  },
  {
   "cell_type": "code",
   "execution_count": 4,
   "metadata": {},
   "outputs": [
    {
     "data": {
      "text/html": "<div>\n<style scoped>\n    .dataframe tbody tr th:only-of-type {\n        vertical-align: middle;\n    }\n\n    .dataframe tbody tr th {\n        vertical-align: top;\n    }\n\n    .dataframe thead th {\n        text-align: right;\n    }\n</style>\n<table border=\"1\" class=\"dataframe\">\n  <thead>\n    <tr style=\"text-align: right;\">\n      <th></th>\n      <th>municipio</th>\n      <th>confirmados</th>\n      <th>mortes</th>\n    </tr>\n  </thead>\n  <tbody>\n    <tr>\n      <th>0</th>\n      <td>Alcinópolis</td>\n      <td>167</td>\n      <td>6</td>\n    </tr>\n    <tr>\n      <th>1</th>\n      <td>Amambai</td>\n      <td>2.120</td>\n      <td>40</td>\n    </tr>\n    <tr>\n      <th>2</th>\n      <td>Anastácio</td>\n      <td>1.697</td>\n      <td>52</td>\n    </tr>\n    <tr>\n      <th>3</th>\n      <td>Anaurilândia</td>\n      <td>293</td>\n      <td>10</td>\n    </tr>\n    <tr>\n      <th>4</th>\n      <td>Angélica</td>\n      <td>631</td>\n      <td>14</td>\n    </tr>\n    <tr>\n      <th>...</th>\n      <td>...</td>\n      <td>...</td>\n      <td>...</td>\n    </tr>\n    <tr>\n      <th>74</th>\n      <td>Taquarussu</td>\n      <td>212</td>\n      <td>5</td>\n    </tr>\n    <tr>\n      <th>75</th>\n      <td>Terenos</td>\n      <td>955</td>\n      <td>38</td>\n    </tr>\n    <tr>\n      <th>76</th>\n      <td>Três Lagoas</td>\n      <td>13.800</td>\n      <td>315</td>\n    </tr>\n    <tr>\n      <th>77</th>\n      <td>Vicentina</td>\n      <td>555</td>\n      <td>14</td>\n    </tr>\n    <tr>\n      <th>78</th>\n      <td>Água Clara</td>\n      <td>1.658</td>\n      <td>30</td>\n    </tr>\n  </tbody>\n</table>\n<p>79 rows × 3 columns</p>\n</div>",
      "text/plain": "       municipio confirmados mortes\n0    Alcinópolis         167      6\n1        Amambai       2.120     40\n2      Anastácio       1.697     52\n3   Anaurilândia         293     10\n4       Angélica         631     14\n..           ...         ...    ...\n74    Taquarussu         212      5\n75       Terenos         955     38\n76   Três Lagoas      13.800    315\n77     Vicentina         555     14\n78    Água Clara       1.658     30\n\n[79 rows x 3 columns]"
     },
     "metadata": {},
     "output_type": "display_data"
    }
   ],
   "source": [
    "dates = [\"2021-05-01\"]\r\n",
    "for date in dates:\r\n",
    "    \r\n",
    "    tables = pdf_tables({\"year\": date[:4], \"month\": date[5:7], \"day\": date[8:],})\r\n",
    "\r\n",
    "    first_line = \"MunicípioÓbitosDistribuiçãoLetalidadeMortalidade\"\r\n",
    "    for table in tables:\r\n",
    "        try:\r\n",
    "            if table.df.at[0, 2] == \"Casosconfirmados\":\r\n",
    "                table.df = table.df.filter([0,2])\r\n",
    "                table.df.drop([0], inplace=True)\r\n",
    "                # Creat and appending table\r\n",
    "                if not ('data_frame_confirmed' in vars() or 'data_frame_confirmed' in globals()):\r\n",
    "                    data_frame_confirmed = table.df\r\n",
    "                else:\r\n",
    "                    data_frame_confirmed = data_frame_confirmed.append(table.df, ignore_index=True)\r\n",
    "\r\n",
    "\r\n",
    "            elif table.df.at[0, 0] == first_line or table.df.at[0, 1] == first_line or table.df.at[0, 2] == first_line:\r\n",
    "                table.df.drop(columns=[0, 4, 5, 6], inplace=True)\r\n",
    "\r\n",
    "                table.df = table.df.drop([0]).reset_index()\r\n",
    "                \r\n",
    "                # Rows format\r\n",
    "                for i in range(len(table.df[2])):\r\n",
    "                    if table.df.at[i, 1] != \"=\" and table.df.at[i, 1] != \"\":\r\n",
    "                        table.df.at[i, 2] = \"\".join(i for i in table.df.at[i, 1] if not i.isdigit())\r\n",
    "                \r\n",
    "                # Creat and appending table\r\n",
    "                if not ('data_frame' in vars() or 'data_frame' in globals()):\r\n",
    "                    data_frame = table.df\r\n",
    "                else:\r\n",
    "                    data_frame = data_frame.append(table.df, ignore_index=True)\r\n",
    "                \r\n",
    "                data_frame.drop(columns=[1, \"index\"], inplace=True)\r\n",
    "        except:\r\n",
    "            pass\r\n",
    "\r\n",
    "    data_frame_confirmed = data_frame_confirmed.sort_values(by=0)\r\n",
    "    data_frame_confirmed.reset_index(drop=True, inplace=True)\r\n",
    "\r\n",
    "    confirmed_col = data_frame_confirmed[2]\r\n",
    "\r\n",
    "    # Drop first row\r\n",
    "    data_frame = data_frame.drop([0]).reset_index(drop=True)\r\n",
    "    \r\n",
    "    data_frame.rename(columns={2: \"municipio\", 3: \"mortes\"}, inplace=True)\r\n",
    "    data_frame.sort_values(by=\"municipio\", inplace=True)\r\n",
    "    data_frame.reset_index(drop=True, inplace=True)\r\n",
    "\r\n",
    "    # Inserting column at the\r\n",
    "    # beginning in the DataFrame\r\n",
    "    data_frame.insert(loc = 1,\r\n",
    "        column = 'confirmados',\r\n",
    "        value = confirmed_col)\r\n",
    "\r\n",
    "    data_frame.reset_index(drop=True, inplace=True)\r\n",
    "    \r\n",
    "    # Adding space before every uppercase letter\r\n",
    "    data_frame[\"municipio\"] = data_frame[\"municipio\"].apply(lambda x: re.sub(r\"(\\w)([A-Z])\", r\"\\1 \\2\", x))\r\n",
    "    # Adding space before every word + do + de + da\r\n",
    "    data_frame[\"municipio\"] = data_frame[\"municipio\"].apply(lambda x: re.sub(r\"(\\w)((d)(\\w)\\s[A-Z])\", r\"\\1 \\2\", x))\r\n",
    "        \r\n",
    "    # Remove accents\r\n",
    "    data_frame[\"new\"] = data_frame[\"municipio\"].str.normalize('NFKD')\\\r\n",
    "             .str.encode('ascii', errors='ignore')\\\r\n",
    "             .str.decode('utf-8')\r\n",
    "    \r\n",
    "    # Sort by new column, then drop\r\n",
    "    data_frame = data_frame.sort_values(\"new\", ascending=True)\\\r\n",
    "        .drop(\"new\", axis=1)\r\n",
    "        \r\n",
    "    # Generating csv\r\n",
    "    data_frame.to_csv(\"test.csv\", line_terminator=None, index=False)"
   ]
  }
 ],
 "metadata": {
  "kernelspec": {
   "display_name": "Python 3.8.8  ('webscreaping_venv': venv)",
   "name": "pythonjvsc74a57bd01c3b4f3a3e2c3e8780cfee43d81b915f3aa66dace7bef9eda32c5a7dd9110afb"
  },
  "language_info": {
   "codemirror_mode": {
    "name": "ipython",
    "version": 3
   },
   "file_extension": ".py",
   "mimetype": "text/x-python",
   "name": "python",
   "nbconvert_exporter": "python",
   "pygments_lexer": "ipython3",
   "version": "3.8.8"
  },
  "metadata": {
   "interpreter": {
    "hash": "1c3b4f3a3e2c3e8780cfee43d81b915f3aa66dace7bef9eda32c5a7dd9110afb"
   }
  },
  "orig_nbformat": 3
 },
 "nbformat": 4,
 "nbformat_minor": 2
}