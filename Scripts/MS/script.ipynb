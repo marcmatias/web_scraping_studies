{
 "metadata": {
  "language_info": {
   "codemirror_mode": {
    "name": "ipython",
    "version": 3
   },
   "file_extension": ".py",
   "mimetype": "text/x-python",
   "name": "python",
   "nbconvert_exporter": "python",
   "pygments_lexer": "ipython3",
   "version": "3.8.8"
  },
  "orig_nbformat": 2,
  "kernelspec": {
   "name": "python388jvsc74a57bd09bcfbcb8ab2cb80a481072a3cca9f0f9f1b765920b23f0e202d2d845decbede7",
   "display_name": "Python 3.8.8 64-bit"
  },
  "metadata": {
   "interpreter": {
    "hash": "63fd5069d213b44bf678585dea6b12cceca9941eaf7f819626cde1f2670de90d"
   }
  }
 },
 "nbformat": 4,
 "nbformat_minor": 2,
 "cells": [
  {
   "cell_type": "code",
   "execution_count": 1,
   "metadata": {},
   "outputs": [],
   "source": [
    "import camelot\n",
    "import re\n",
    "import requests\n",
    "import locale"
   ]
  },
  {
   "cell_type": "code",
   "execution_count": 2,
   "metadata": {},
   "outputs": [],
   "source": [
    "def pdf_tables(date):\n",
    "    url = f\"https://www.vs.saude.ms.gov.br/wp-content/uploads/{date['year']}/{date[ 'month']}/Boletim-Epidemiologico-COVID-19-{date['year']}.{date['month']}.{date['day']}.pdf\"\n",
    "    tables = camelot.read_pdf(url, pages=\"all\", strip_text=\"▼, ▲, \\n\") # 18, 19, 20, 33, 34, 35, 36\n",
    "    return tables"
   ]
  },
  {
   "cell_type": "code",
   "execution_count": 3,
   "metadata": {},
   "outputs": [],
   "source": [
    "def add_new_row(data_frame, name_row, t_confirmado, t_obito):\n",
    "    data_frame.loc[-1] = [name_row, t_confirmado, t_obito]  # adding a row\n",
    "    data_frame.index = data_frame.index + 1  # shifting index\n",
    "    return data_frame.sort_index()  # sorting by index"
   ]
  },
  {
   "cell_type": "code",
   "execution_count": 4,
   "metadata": {},
   "outputs": [
    {
     "output_type": "display_data",
     "data": {
      "text/plain": "               0       2\n0    Alcinópolis     167\n1        Amambai   2.120\n2      Anastácio   1.697\n3   Anaurilândia     293\n4       Angélica     631\n..           ...     ...\n74    Taquarussu     212\n75       Terenos     955\n76    TrêsLagoas  13.800\n77     Vicentina     555\n78     ÁguaClara   1.658\n\n[79 rows x 2 columns]",
      "text/html": "<div>\n<style scoped>\n    .dataframe tbody tr th:only-of-type {\n        vertical-align: middle;\n    }\n\n    .dataframe tbody tr th {\n        vertical-align: top;\n    }\n\n    .dataframe thead th {\n        text-align: right;\n    }\n</style>\n<table border=\"1\" class=\"dataframe\">\n  <thead>\n    <tr style=\"text-align: right;\">\n      <th></th>\n      <th>0</th>\n      <th>2</th>\n    </tr>\n  </thead>\n  <tbody>\n    <tr>\n      <th>0</th>\n      <td>Alcinópolis</td>\n      <td>167</td>\n    </tr>\n    <tr>\n      <th>1</th>\n      <td>Amambai</td>\n      <td>2.120</td>\n    </tr>\n    <tr>\n      <th>2</th>\n      <td>Anastácio</td>\n      <td>1.697</td>\n    </tr>\n    <tr>\n      <th>3</th>\n      <td>Anaurilândia</td>\n      <td>293</td>\n    </tr>\n    <tr>\n      <th>4</th>\n      <td>Angélica</td>\n      <td>631</td>\n    </tr>\n    <tr>\n      <th>...</th>\n      <td>...</td>\n      <td>...</td>\n    </tr>\n    <tr>\n      <th>74</th>\n      <td>Taquarussu</td>\n      <td>212</td>\n    </tr>\n    <tr>\n      <th>75</th>\n      <td>Terenos</td>\n      <td>955</td>\n    </tr>\n    <tr>\n      <th>76</th>\n      <td>TrêsLagoas</td>\n      <td>13.800</td>\n    </tr>\n    <tr>\n      <th>77</th>\n      <td>Vicentina</td>\n      <td>555</td>\n    </tr>\n    <tr>\n      <th>78</th>\n      <td>ÁguaClara</td>\n      <td>1.658</td>\n    </tr>\n  </tbody>\n</table>\n<p>79 rows × 2 columns</p>\n</div>"
     },
     "metadata": {}
    },
    {
     "output_type": "display_data",
     "data": {
      "text/plain": "              2      3\n0   CampoGrande  2.472\n1      Dourados    417\n2       Corumbá    340\n3    TrêsLagoas    315\n4       Naviraí    172\n..          ...    ...\n74     Selvíria      5\n75   Taquarussu      5\n76    Figueirão      3\n77       Japorã      3\n78        Jateí      2\n\n[79 rows x 2 columns]",
      "text/html": "<div>\n<style scoped>\n    .dataframe tbody tr th:only-of-type {\n        vertical-align: middle;\n    }\n\n    .dataframe tbody tr th {\n        vertical-align: top;\n    }\n\n    .dataframe thead th {\n        text-align: right;\n    }\n</style>\n<table border=\"1\" class=\"dataframe\">\n  <thead>\n    <tr style=\"text-align: right;\">\n      <th></th>\n      <th>2</th>\n      <th>3</th>\n    </tr>\n  </thead>\n  <tbody>\n    <tr>\n      <th>0</th>\n      <td>CampoGrande</td>\n      <td>2.472</td>\n    </tr>\n    <tr>\n      <th>1</th>\n      <td>Dourados</td>\n      <td>417</td>\n    </tr>\n    <tr>\n      <th>2</th>\n      <td>Corumbá</td>\n      <td>340</td>\n    </tr>\n    <tr>\n      <th>3</th>\n      <td>TrêsLagoas</td>\n      <td>315</td>\n    </tr>\n    <tr>\n      <th>4</th>\n      <td>Naviraí</td>\n      <td>172</td>\n    </tr>\n    <tr>\n      <th>...</th>\n      <td>...</td>\n      <td>...</td>\n    </tr>\n    <tr>\n      <th>74</th>\n      <td>Selvíria</td>\n      <td>5</td>\n    </tr>\n    <tr>\n      <th>75</th>\n      <td>Taquarussu</td>\n      <td>5</td>\n    </tr>\n    <tr>\n      <th>76</th>\n      <td>Figueirão</td>\n      <td>3</td>\n    </tr>\n    <tr>\n      <th>77</th>\n      <td>Japorã</td>\n      <td>3</td>\n    </tr>\n    <tr>\n      <th>78</th>\n      <td>Jateí</td>\n      <td>2</td>\n    </tr>\n  </tbody>\n</table>\n<p>79 rows × 2 columns</p>\n</div>"
     },
     "metadata": {}
    }
   ],
   "source": [
    "dates = [\"2021-05-01\"]\n",
    "for date in dates:\n",
    "    \n",
    "    tables = pdf_tables({\"year\": date[:4], \"month\": date[5:7], \"day\": date[8:],})\n",
    "\n",
    "    first_line = \"MunicípioÓbitosDistribuiçãoLetalidadeMortalidade\"\n",
    "    for table in tables:\n",
    "        try:\n",
    "            if table.df.at[0, 2] == \"Casosconfirmados\":\n",
    "                table.df = table.df.filter([0,2])\n",
    "                table.df.drop([0], inplace=True)\n",
    "                # Creat and appending table\n",
    "                if not ('data_frame_confirmed' in vars() or 'data_frame_confirmed' in globals()):\n",
    "                    data_frame_confirmed = table.df\n",
    "                else:\n",
    "                    data_frame_confirmed = data_frame_confirmed.append(table.df, ignore_index=True)\n",
    "\n",
    "\n",
    "            elif table.df.at[0, 0] == first_line or table.df.at[0, 1] == first_line or table.df.at[0, 2] == first_line:\n",
    "                table.df.drop(columns=[0, 4, 5, 6], inplace=True)\n",
    "\n",
    "                table.df = table.df.drop([0]).reset_index()\n",
    "                \n",
    "                # Rows format\n",
    "                for i in range(len(table.df[2])):\n",
    "                    if table.df.at[i, 1] != \"=\" and table.df.at[i, 1] != \"\":\n",
    "                        table.df.at[i, 2] = \"\".join(i for i in table.df.at[i, 1] if not i.isdigit())\n",
    "                \n",
    "                # Creat and appending table\n",
    "                if not ('data_frame' in vars() or 'data_frame' in globals()):\n",
    "                    data_frame = table.df\n",
    "                else:\n",
    "                    data_frame = data_frame.append(table.df, ignore_index=True)\n",
    "                \n",
    "                data_frame.drop(columns=[1, \"index\"], inplace=True)\n",
    "        except:\n",
    "            pass\n",
    "\n",
    "    data_frame_confirmed = data_frame_confirmed.sort_values(by=0)\n",
    "    data_frame_confirmed.reset_index(drop=True, inplace=True)\n",
    "\n",
    "    confirmed_col = data_frame_confirmed[2]\n",
    "\n",
    "    # Drop first row\n",
    "    data_frame = data_frame.drop([0]).reset_index(drop=True)\n",
    "    \n",
    "    data_frame.rename(columns={2: \"municipio\", 3: \"mortes\"}, inplace=True)\n",
    "    data_frame = data_frame.sort_values(by=\"municipio\")\n",
    "    data_frame.reset_index(drop=True, inplace=True)\n",
    "\n",
    "    # Inserting column at the\n",
    "    # beginning in the DataFrame\n",
    "    data_frame.insert(loc = 1,\n",
    "        column = 'confirmados',\n",
    "        value = confirmed_col)\n",
    "\n",
    "    data_frame.reset_index(drop=True, inplace=True)\n",
    "\n",
    "    data_frame.to_csv(\"test.csv\", line_terminator=None, index=False)\n",
    "    data_frame_confirmed.to_csv(\"test2.csv\", line_terminator=None, index=False)"
   ]
  }
 ]
}