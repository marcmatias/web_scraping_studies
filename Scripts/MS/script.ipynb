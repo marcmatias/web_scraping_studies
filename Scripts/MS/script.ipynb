{
 "metadata": {
  "language_info": {
   "codemirror_mode": {
    "name": "ipython",
    "version": 3
   },
   "file_extension": ".py",
   "mimetype": "text/x-python",
   "name": "python",
   "nbconvert_exporter": "python",
   "pygments_lexer": "ipython3",
   "version": "3.8.8"
  },
  "orig_nbformat": 2,
  "kernelspec": {
   "name": "python388jvsc74a57bd09bcfbcb8ab2cb80a481072a3cca9f0f9f1b765920b23f0e202d2d845decbede7",
   "display_name": "Python 3.8.8 64-bit"
  },
  "metadata": {
   "interpreter": {
    "hash": "63fd5069d213b44bf678585dea6b12cceca9941eaf7f819626cde1f2670de90d"
   }
  }
 },
 "nbformat": 4,
 "nbformat_minor": 2,
 "cells": [
  {
   "cell_type": "code",
   "execution_count": 1,
   "metadata": {},
   "outputs": [],
   "source": [
    "import camelot\n",
    "import re\n",
    "import requests\n",
    "import locale"
   ]
  },
  {
   "cell_type": "code",
   "execution_count": 2,
   "metadata": {},
   "outputs": [],
   "source": [
    "def pdf_tables(date):\n",
    "    url = f\"https://www.vs.saude.ms.gov.br/wp-content/uploads/{date['year']}/{date[ 'month']}/Boletim-Epidemiologico-COVID-19-{date['year']}.{date['month']}.{date['day']}.pdf\"\n",
    "    tables = camelot.read_pdf(url, pages=\"all\", strip_text=\"▼, ▲, \\n\") # 18, 19, 20, 33, 34, 35, 36\n",
    "    return tables"
   ]
  },
  {
   "cell_type": "code",
   "execution_count": 3,
   "metadata": {},
   "outputs": [],
   "source": [
    "def add_new_row(data_frame, name_row, t_confirmado, t_obito):\n",
    "    data_frame.loc[-1] = [name_row, t_confirmado, t_obito]  # adding a row\n",
    "    data_frame.index = data_frame.index + 1  # shifting index\n",
    "    return data_frame.sort_index()  # sorting by index"
   ]
  },
  {
   "cell_type": "code",
   "execution_count": 4,
   "metadata": {},
   "outputs": [
    {
     "output_type": "stream",
     "name": "stdout",
     "text": [
      "KeyError(1)\nKeyError(1)\nKeyError(1)\nKeyError(1)\nKeyError(1)\nKeyError(1)\nKeyError(2)\n"
     ]
    },
    {
     "output_type": "display_data",
     "data": {
      "text/plain": "               0       9\n1      ÁguaClara   1.656\n2    Alcinópolis     167\n3        Amambai   2.111\n4      Anastácio   1.684\n5   Anaurilândia     290\n..           ...     ...\n77        Tacuru     671\n78    Taquarussu     208\n79       Terenos     952\n80    TrêsLagoas  13.767\n81     Vicentina     545\n\n[81 rows x 2 columns]",
      "text/html": "<div>\n<style scoped>\n    .dataframe tbody tr th:only-of-type {\n        vertical-align: middle;\n    }\n\n    .dataframe tbody tr th {\n        vertical-align: top;\n    }\n\n    .dataframe thead th {\n        text-align: right;\n    }\n</style>\n<table border=\"1\" class=\"dataframe\">\n  <thead>\n    <tr style=\"text-align: right;\">\n      <th></th>\n      <th>0</th>\n      <th>9</th>\n    </tr>\n  </thead>\n  <tbody>\n    <tr>\n      <th>1</th>\n      <td>ÁguaClara</td>\n      <td>1.656</td>\n    </tr>\n    <tr>\n      <th>2</th>\n      <td>Alcinópolis</td>\n      <td>167</td>\n    </tr>\n    <tr>\n      <th>3</th>\n      <td>Amambai</td>\n      <td>2.111</td>\n    </tr>\n    <tr>\n      <th>4</th>\n      <td>Anastácio</td>\n      <td>1.684</td>\n    </tr>\n    <tr>\n      <th>5</th>\n      <td>Anaurilândia</td>\n      <td>290</td>\n    </tr>\n    <tr>\n      <th>...</th>\n      <td>...</td>\n      <td>...</td>\n    </tr>\n    <tr>\n      <th>77</th>\n      <td>Tacuru</td>\n      <td>671</td>\n    </tr>\n    <tr>\n      <th>78</th>\n      <td>Taquarussu</td>\n      <td>208</td>\n    </tr>\n    <tr>\n      <th>79</th>\n      <td>Terenos</td>\n      <td>952</td>\n    </tr>\n    <tr>\n      <th>80</th>\n      <td>TrêsLagoas</td>\n      <td>13.767</td>\n    </tr>\n    <tr>\n      <th>81</th>\n      <td>Vicentina</td>\n      <td>545</td>\n    </tr>\n  </tbody>\n</table>\n<p>81 rows × 2 columns</p>\n</div>"
     },
     "metadata": {}
    },
    {
     "output_type": "display_data",
     "data": {
      "text/plain": "          municipio mortes\n0   MatoGrossodoSul  5.759\n1       CampoGrande  2.472\n2          Dourados    417\n3           Corumbá    340\n4        TrêsLagoas    315\n..              ...    ...\n75         Selvíria      5\n76       Taquarussu      5\n77        Figueirão      3\n78           Japorã      3\n79            Jateí      2\n\n[80 rows x 2 columns]",
      "text/html": "<div>\n<style scoped>\n    .dataframe tbody tr th:only-of-type {\n        vertical-align: middle;\n    }\n\n    .dataframe tbody tr th {\n        vertical-align: top;\n    }\n\n    .dataframe thead th {\n        text-align: right;\n    }\n</style>\n<table border=\"1\" class=\"dataframe\">\n  <thead>\n    <tr style=\"text-align: right;\">\n      <th></th>\n      <th>municipio</th>\n      <th>mortes</th>\n    </tr>\n  </thead>\n  <tbody>\n    <tr>\n      <th>0</th>\n      <td>MatoGrossodoSul</td>\n      <td>5.759</td>\n    </tr>\n    <tr>\n      <th>1</th>\n      <td>CampoGrande</td>\n      <td>2.472</td>\n    </tr>\n    <tr>\n      <th>2</th>\n      <td>Dourados</td>\n      <td>417</td>\n    </tr>\n    <tr>\n      <th>3</th>\n      <td>Corumbá</td>\n      <td>340</td>\n    </tr>\n    <tr>\n      <th>4</th>\n      <td>TrêsLagoas</td>\n      <td>315</td>\n    </tr>\n    <tr>\n      <th>...</th>\n      <td>...</td>\n      <td>...</td>\n    </tr>\n    <tr>\n      <th>75</th>\n      <td>Selvíria</td>\n      <td>5</td>\n    </tr>\n    <tr>\n      <th>76</th>\n      <td>Taquarussu</td>\n      <td>5</td>\n    </tr>\n    <tr>\n      <th>77</th>\n      <td>Figueirão</td>\n      <td>3</td>\n    </tr>\n    <tr>\n      <th>78</th>\n      <td>Japorã</td>\n      <td>3</td>\n    </tr>\n    <tr>\n      <th>79</th>\n      <td>Jateí</td>\n      <td>2</td>\n    </tr>\n  </tbody>\n</table>\n<p>80 rows × 2 columns</p>\n</div>"
     },
     "metadata": {}
    },
    {
     "output_type": "error",
     "ename": "TypeError",
     "evalue": "strxfrm() argument 1 must be str, not Series",
     "traceback": [
      "\u001b[1;31m---------------------------------------------------------------------------\u001b[0m",
      "\u001b[1;31mTypeError\u001b[0m                                 Traceback (most recent call last)",
      "\u001b[1;32m<ipython-input-4-a95243dc0878>\u001b[0m in \u001b[0;36m<module>\u001b[1;34m\u001b[0m\n\u001b[0;32m     53\u001b[0m     \u001b[1;32mfor\u001b[0m \u001b[0mi\u001b[0m \u001b[1;32min\u001b[0m \u001b[0mrange\u001b[0m\u001b[1;33m(\u001b[0m\u001b[0mlen\u001b[0m\u001b[1;33m(\u001b[0m\u001b[0mdata_frame\u001b[0m\u001b[1;33m[\u001b[0m\u001b[1;34m\"municipio\"\u001b[0m\u001b[1;33m]\u001b[0m\u001b[1;33m)\u001b[0m\u001b[1;33m)\u001b[0m\u001b[1;33m:\u001b[0m\u001b[1;33m\u001b[0m\u001b[1;33m\u001b[0m\u001b[0m\n\u001b[0;32m     54\u001b[0m         \u001b[0mdata_frame\u001b[0m\u001b[1;33m.\u001b[0m\u001b[0mat\u001b[0m\u001b[1;33m[\u001b[0m\u001b[0mi\u001b[0m\u001b[1;33m,\u001b[0m \u001b[1;34m\"municipio\"\u001b[0m\u001b[1;33m]\u001b[0m \u001b[1;33m=\u001b[0m \u001b[1;34m\" \"\u001b[0m\u001b[1;33m.\u001b[0m\u001b[0mjoin\u001b[0m\u001b[1;33m(\u001b[0m\u001b[0mre\u001b[0m\u001b[1;33m.\u001b[0m\u001b[0mfindall\u001b[0m\u001b[1;33m(\u001b[0m\u001b[1;34m'[A-ZÀ-Ú][a-zà-ú]*'\u001b[0m\u001b[1;33m,\u001b[0m \u001b[0mdata_frame\u001b[0m\u001b[1;33m.\u001b[0m\u001b[0mat\u001b[0m\u001b[1;33m[\u001b[0m\u001b[0mi\u001b[0m\u001b[1;33m,\u001b[0m \u001b[1;34m\"municipio\"\u001b[0m\u001b[1;33m]\u001b[0m\u001b[1;33m)\u001b[0m\u001b[1;33m)\u001b[0m\u001b[1;33m\u001b[0m\u001b[1;33m\u001b[0m\u001b[0m\n\u001b[1;32m---> 55\u001b[1;33m     \u001b[0mdata_frame\u001b[0m\u001b[1;33m.\u001b[0m\u001b[0msort_values\u001b[0m\u001b[1;33m(\u001b[0m\u001b[0mby\u001b[0m\u001b[1;33m=\u001b[0m\u001b[1;33m[\u001b[0m\u001b[1;34m'municipio'\u001b[0m\u001b[1;33m]\u001b[0m\u001b[1;33m,\u001b[0m \u001b[0mkey\u001b[0m\u001b[1;33m=\u001b[0m\u001b[0mlocale\u001b[0m\u001b[1;33m.\u001b[0m\u001b[0mstrxfrm\u001b[0m\u001b[1;33m,\u001b[0m \u001b[0minplace\u001b[0m\u001b[1;33m=\u001b[0m\u001b[1;32mTrue\u001b[0m\u001b[1;33m)\u001b[0m\u001b[1;33m\u001b[0m\u001b[1;33m\u001b[0m\u001b[0m\n\u001b[0m\u001b[0;32m     56\u001b[0m     \u001b[0madd_new_row\u001b[0m\u001b[1;33m\u001b[0m\u001b[1;33m\u001b[0m\u001b[0m\n\u001b[0;32m     57\u001b[0m \u001b[1;33m\u001b[0m\u001b[0m\n",
      "\u001b[1;32m~\\AppData\\Local\\Programs\\Python\\Python38\\lib\\site-packages\\pandas\\core\\frame.py\u001b[0m in \u001b[0;36msort_values\u001b[1;34m(self, by, axis, ascending, inplace, kind, na_position, ignore_index, key)\u001b[0m\n\u001b[0;32m   5462\u001b[0m                 \u001b[0mascending\u001b[0m \u001b[1;33m=\u001b[0m \u001b[0mascending\u001b[0m\u001b[1;33m[\u001b[0m\u001b[1;36m0\u001b[0m\u001b[1;33m]\u001b[0m\u001b[1;33m\u001b[0m\u001b[1;33m\u001b[0m\u001b[0m\n\u001b[0;32m   5463\u001b[0m \u001b[1;33m\u001b[0m\u001b[0m\n\u001b[1;32m-> 5464\u001b[1;33m             indexer = nargsort(\n\u001b[0m\u001b[0;32m   5465\u001b[0m                 \u001b[0mk\u001b[0m\u001b[1;33m,\u001b[0m \u001b[0mkind\u001b[0m\u001b[1;33m=\u001b[0m\u001b[0mkind\u001b[0m\u001b[1;33m,\u001b[0m \u001b[0mascending\u001b[0m\u001b[1;33m=\u001b[0m\u001b[0mascending\u001b[0m\u001b[1;33m,\u001b[0m \u001b[0mna_position\u001b[0m\u001b[1;33m=\u001b[0m\u001b[0mna_position\u001b[0m\u001b[1;33m,\u001b[0m \u001b[0mkey\u001b[0m\u001b[1;33m=\u001b[0m\u001b[0mkey\u001b[0m\u001b[1;33m\u001b[0m\u001b[1;33m\u001b[0m\u001b[0m\n\u001b[0;32m   5466\u001b[0m             )\n",
      "\u001b[1;32m~\\AppData\\Local\\Programs\\Python\\Python38\\lib\\site-packages\\pandas\\core\\sorting.py\u001b[0m in \u001b[0;36mnargsort\u001b[1;34m(items, kind, ascending, na_position, key, mask)\u001b[0m\n\u001b[0;32m    351\u001b[0m \u001b[1;33m\u001b[0m\u001b[0m\n\u001b[0;32m    352\u001b[0m     \u001b[1;32mif\u001b[0m \u001b[0mkey\u001b[0m \u001b[1;32mis\u001b[0m \u001b[1;32mnot\u001b[0m \u001b[1;32mNone\u001b[0m\u001b[1;33m:\u001b[0m\u001b[1;33m\u001b[0m\u001b[1;33m\u001b[0m\u001b[0m\n\u001b[1;32m--> 353\u001b[1;33m         \u001b[0mitems\u001b[0m \u001b[1;33m=\u001b[0m \u001b[0mensure_key_mapped\u001b[0m\u001b[1;33m(\u001b[0m\u001b[0mitems\u001b[0m\u001b[1;33m,\u001b[0m \u001b[0mkey\u001b[0m\u001b[1;33m)\u001b[0m\u001b[1;33m\u001b[0m\u001b[1;33m\u001b[0m\u001b[0m\n\u001b[0m\u001b[0;32m    354\u001b[0m         return nargsort(\n\u001b[0;32m    355\u001b[0m             \u001b[0mitems\u001b[0m\u001b[1;33m,\u001b[0m\u001b[1;33m\u001b[0m\u001b[1;33m\u001b[0m\u001b[0m\n",
      "\u001b[1;32m~\\AppData\\Local\\Programs\\Python\\Python38\\lib\\site-packages\\pandas\\core\\sorting.py\u001b[0m in \u001b[0;36mensure_key_mapped\u001b[1;34m(values, key, levels)\u001b[0m\n\u001b[0;32m    491\u001b[0m         \u001b[1;32mreturn\u001b[0m \u001b[0m_ensure_key_mapped_multiindex\u001b[0m\u001b[1;33m(\u001b[0m\u001b[0mvalues\u001b[0m\u001b[1;33m,\u001b[0m \u001b[0mkey\u001b[0m\u001b[1;33m,\u001b[0m \u001b[0mlevel\u001b[0m\u001b[1;33m=\u001b[0m\u001b[0mlevels\u001b[0m\u001b[1;33m)\u001b[0m\u001b[1;33m\u001b[0m\u001b[1;33m\u001b[0m\u001b[0m\n\u001b[0;32m    492\u001b[0m \u001b[1;33m\u001b[0m\u001b[0m\n\u001b[1;32m--> 493\u001b[1;33m     \u001b[0mresult\u001b[0m \u001b[1;33m=\u001b[0m \u001b[0mkey\u001b[0m\u001b[1;33m(\u001b[0m\u001b[0mvalues\u001b[0m\u001b[1;33m.\u001b[0m\u001b[0mcopy\u001b[0m\u001b[1;33m(\u001b[0m\u001b[1;33m)\u001b[0m\u001b[1;33m)\u001b[0m\u001b[1;33m\u001b[0m\u001b[1;33m\u001b[0m\u001b[0m\n\u001b[0m\u001b[0;32m    494\u001b[0m     \u001b[1;32mif\u001b[0m \u001b[0mlen\u001b[0m\u001b[1;33m(\u001b[0m\u001b[0mresult\u001b[0m\u001b[1;33m)\u001b[0m \u001b[1;33m!=\u001b[0m \u001b[0mlen\u001b[0m\u001b[1;33m(\u001b[0m\u001b[0mvalues\u001b[0m\u001b[1;33m)\u001b[0m\u001b[1;33m:\u001b[0m\u001b[1;33m\u001b[0m\u001b[1;33m\u001b[0m\u001b[0m\n\u001b[0;32m    495\u001b[0m         raise ValueError(\n",
      "\u001b[1;31mTypeError\u001b[0m: strxfrm() argument 1 must be str, not Series"
     ]
    }
   ],
   "source": [
    "dates = [\"2021-05-01\"]\n",
    "for date in dates:\n",
    "    \n",
    "    tables = pdf_tables({\"year\": date[:4], \"month\": date[5:7], \"day\": date[8:],})\n",
    "\n",
    "    first_line = \"MunicípioÓbitosDistribuiçãoLetalidadeMortalidade\"\n",
    "    for table in tables:\n",
    "        try:\n",
    "            if table.df.at[0, 1] == \"RT-PCR\":\n",
    "                table.df = table.df.filter([0,9])\n",
    "                # Creat and appending table\n",
    "                if not ('data_frame_confirmed' in vars() or 'data_frame_confirmed' in globals()):\n",
    "                    data_frame_confirmed = table.df\n",
    "                else:\n",
    "                    data_frame_confirmed = data_frame_confirmed.append(table.df, ignore_index=True)\n",
    "\n",
    "\n",
    "            elif table.df.at[0, 0] == first_line or table.df.at[0, 1] == first_line or table.df.at[0, 2] == first_line:\n",
    "                table.df.drop(columns=[0, 4, 5, 6], inplace=True)\n",
    "                table.df = table.df.drop([0]).reset_index()\n",
    "                \n",
    "                # Rows format\n",
    "                for i in range(len(table.df[2])):\n",
    "                    if table.df.at[i, 1] != \"=\" and table.df.at[i, 1] != \"\":\n",
    "                        table.df.at[i, 2] = \"\".join(i for i in table.df.at[i, 1] if not i.isdigit())\n",
    "                \n",
    "                # Creat and appending table\n",
    "                if not ('data_frame' in vars() or 'data_frame' in globals()):\n",
    "                    data_frame = table.df\n",
    "                else:\n",
    "                    data_frame = data_frame.append(table.df, ignore_index=True)\n",
    "                \n",
    "                data_frame.drop(columns=[1, \"index\"], inplace=True)\n",
    "        except Exception as e:\n",
    "            print(repr(e))\n",
    "    # Remove last row\n",
    "    data_frame_confirmed.drop(index=data_frame_confirmed.index[-1], \n",
    "            axis=0, \n",
    "            inplace=True)\n",
    "    # Remove first line\n",
    "    data_frame_confirmed.drop([0], inplace=True)\n",
    "    confirmed_col = data_frame_confirmed[9]\n",
    "\n",
    "    data_frame.rename(columns={2: \"municipio\", 3: \"mortes\"}, inplace=True)\n",
    "    \n",
    "    display(data_frame_confirmed)\n",
    "    display(data_frame)\n",
    "    \n",
    "    # Data normalization\n",
    "    for i in range(len(data_frame[\"municipio\"])):\n",
    "        data_frame.at[i, \"municipio\"] = \" \".join(re.findall('[A-ZÀ-Ú][a-zà-ú]*', data_frame.at[i, \"municipio\"]))\n",
    "    data_frame.sort_values(by=['municipio'], key=locale.strxfrm, inplace=True)\n",
    "    add_new_row\n",
    "\n",
    "    # Inserting the column at the\n",
    "    # beginning in the DataFrame\n",
    "    data_frame.insert(loc = 1,\n",
    "            column = 'confirmados',\n",
    "            value = confirmed_col)\n",
    "    data_frame.reset_index(drop=True, inplace=True)\n",
    "    display(data_frame)\n",
    "    data_frame.to_csv(\"test.csv\", line_terminator=None, index=False)"
   ]
  }
 ]
}