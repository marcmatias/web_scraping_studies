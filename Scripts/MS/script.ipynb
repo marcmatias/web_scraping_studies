{
 "metadata": {
  "language_info": {
   "codemirror_mode": {
    "name": "ipython",
    "version": 3
   },
   "file_extension": ".py",
   "mimetype": "text/x-python",
   "name": "python",
   "nbconvert_exporter": "python",
   "pygments_lexer": "ipython3",
   "version": "3.8.8"
  },
  "orig_nbformat": 2,
  "kernelspec": {
   "name": "python388jvsc74a57bd09ebd6828ea59e2beeb7124697658ae9b6022b4594ded89576638a0382040f87e",
   "display_name": "Python 3.8.8 64-bit"
  },
  "metadata": {
   "interpreter": {
    "hash": "63fd5069d213b44bf678585dea6b12cceca9941eaf7f819626cde1f2670de90d"
   }
  }
 },
 "nbformat": 4,
 "nbformat_minor": 2,
 "cells": [
  {
   "cell_type": "code",
   "execution_count": 1,
   "metadata": {},
   "outputs": [],
   "source": [
    "import camelot\n",
    "import re"
   ]
  },
  {
   "cell_type": "code",
   "execution_count": 2,
   "metadata": {},
   "outputs": [
    {
     "output_type": "execute_result",
     "data": {
      "text/plain": [
       "8"
      ]
     },
     "metadata": {},
     "execution_count": 2
    }
   ],
   "source": [
    "tables = camelot.read_pdf(\"pdfs/Boletim-Epidemiologico-COVID-19-2021.05.08.pdf\", pages=\"18, 19, 20, 33, 34, 35, 36\", strip_text=\"▼, ▲, \\n\")\n",
    "len(tables)\n",
    "\n",
    "# 18, 19, 20\n",
    "# 33, 34, 35, 36"
   ]
  },
  {
   "cell_type": "code",
   "execution_count": 3,
   "metadata": {},
   "outputs": [],
   "source": [
    "def add_new_row(data_frame, name_row, t_confirmado, t_obito):\n",
    "    data_frame.loc[-1] = [name_row, t_confirmado, t_obito]  # adding a row\n",
    "    data_frame.index = data_frame.index + 1  # shifting index\n",
    "    return data_frame.sort_index()  # sorting by index"
   ]
  },
  {
   "cell_type": "code",
   "execution_count": 4,
   "metadata": {},
   "outputs": [
    {
     "output_type": "error",
     "ename": "SyntaxError",
     "evalue": "invalid syntax (<ipython-input-4-8ef0b33ecfd9>, line 12)",
     "traceback": [
      "\u001b[1;36m  File \u001b[1;32m\"<ipython-input-4-8ef0b33ecfd9>\"\u001b[1;36m, line \u001b[1;32m12\u001b[0m\n\u001b[1;33m    elif table.df.at[0, 0] == first_line or table.df.at[0, 1] == first_line or table.df.at[0, 2] == first_line:\u001b[0m\n\u001b[1;37m    ^\u001b[0m\n\u001b[1;31mSyntaxError\u001b[0m\u001b[1;31m:\u001b[0m invalid syntax\n"
     ]
    }
   ],
   "source": [
    "first_line = \"MunicípioÓbitosDistribuiçãoLetalidadeMortalidade\"\n",
    "for table in tables:\n",
    "    if table.df.at[0, 1] == \"RT-PCR\":\n",
    "        table.df = table.df.filter([0,9])\n",
    "        # Creat and appending table\n",
    "        if not ('data_frame_confirmed' in vars() or 'data_frame_confirmed' in globals()):\n",
    "            data_frame_confirmed = table.df\n",
    "        else:\n",
    "            data_frame_confirmed = data_frame_confirmed.append(table.df, ignore_index=True)\n",
    "\n",
    "\n",
    "    elif table.df.at[0, 0] == first_line or table.df.at[0, 1] == first_line or table.df.at[0, 2] == first_line:\n",
    "        table.df.drop(columns=[0, 4, 5, 6], inplace=True)\n",
    "        table.df = table.df.drop([0]).reset_index()\n",
    "        \n",
    "        # Rows format\n",
    "        for i in range(len(table.df[2])):\n",
    "            if table.df.at[i, 1] != \"=\" and table.df.at[i, 1] != \"\":\n",
    "                table.df.at[i, 2] = \"\".join(i for i in table.df.at[i, 1] if not i.isdigit())\n",
    "        \n",
    "        # Creat and appending table\n",
    "        if not ('data_frame' in vars() or 'data_frame' in globals()):\n",
    "            data_frame = table.df\n",
    "        else:\n",
    "            data_frame = data_frame.append(table.df, ignore_index=True)\n",
    "        \n",
    "        data_frame.drop(columns=[1, \"index\"], inplace=True)\n",
    "\n",
    "# Remove last row\n",
    "data_frame_confirmed.drop(index=data_frame_confirmed.index[-1], \n",
    "        axis=0, \n",
    "        inplace=True)\n",
    "# Remove first line\n",
    "data_frame_confirmed.drop([0], inplace=True)\n",
    "confirmed_col = data_frame_confirmed[9]\n",
    "\n",
    "data_frame.rename(columns={2: \"municipio\", 3: \"mortes\"}, inplace=True)\n",
    "for i in range(len(data_frame[\"municipio\"])):\n",
    "    data_frame.at[i, \"municipio\"] = \" \".join(re.findall('[A-ZÀ-Ú][a-zà-ú]*', data_frame.at[i, \"municipio\"]))\n",
    "data_frame.sort_values(by=['municipio'], ascending=True, inplace=True)\n",
    "add_new_row\n",
    "\n",
    "# Inserting the column at the\n",
    "# beginning in the DataFrame\n",
    "data_frame.insert(loc = 1,\n",
    "          column = 'confirmados',\n",
    "          value = confirmed_col)\n",
    "display(data_frame)\n",
    "data_frame.to_csv(\"test.csv\", line_terminator=None, index=False)"
   ]
  }
 ]
}