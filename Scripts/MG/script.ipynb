{
 "metadata": {
  "language_info": {
   "codemirror_mode": {
    "name": "ipython",
    "version": 3
   },
   "file_extension": ".py",
   "mimetype": "text/x-python",
   "name": "python",
   "nbconvert_exporter": "python",
   "pygments_lexer": "ipython3",
   "version": "3.8.8"
  },
  "orig_nbformat": 2,
  "kernelspec": {
   "name": "pythonjvsc74a57bd00c2e7e3db583b5d09671684abc967ad2a40654044959b8f4c9cc6fea5ac782e4",
   "display_name": "Python 3.8.8  ('myenv': venv)"
  },
  "metadata": {
   "interpreter": {
    "hash": "0c2e7e3db583b5d09671684abc967ad2a40654044959b8f4c9cc6fea5ac782e4"
   }
  }
 },
 "nbformat": 4,
 "nbformat_minor": 2,
 "cells": [
  {
   "cell_type": "code",
   "execution_count": 7,
   "metadata": {},
   "outputs": [],
   "source": [
    "import csv\n",
    "import openpyxl\n",
    "import datetime\n",
    "\n",
    "from io import BytesIO\n",
    "import urllib\n",
    "\n",
    "# importing pandas as pd\n",
    "from bs4 import BeautifulSoup\n",
    "\n",
    "# Pdf checker\n",
    "import re\n",
    "import pdfplumber\n",
    "\n",
    "import requests\n",
    "\n",
    "from urllib.request import urlopen"
   ]
  },
  {
   "cell_type": "code",
   "execution_count": 8,
   "metadata": {},
   "outputs": [],
   "source": [
    "def total_values_pdf(date):\n",
    "    # Getting url link for pdf in official page\n",
    "    url = 'https://coronavirus.saude.mg.gov.br/boletim'\n",
    "    u = urlopen(url)\n",
    "    try:\n",
    "        html = u.read().decode('utf-8')\n",
    "    finally:\n",
    "        u.close()\n",
    "\n",
    "    soup = BeautifulSoup(html, \"html.parser\")\n",
    "    url_pdf_link = soup.find('a', string=lambda value: value and value.endswith(date))[\"href\"]\n",
    "\n",
    "    # Request and Open PDF file\n",
    "    try:\n",
    "        rq = requests.get(f\"https://coronavirus.saude.mg.gov.br{url_pdf_link}\")\n",
    "        pdf_data = pdfplumber.open(BytesIO(rq.content))\n",
    "    except Exception as e:\n",
    "        print(e)\n",
    "    \n",
    "    # Extracting data\n",
    "    pattern_cases = r'^([0-9]{1,3}\\.[0-9]{3}\\s\\.[0-9]{1,3})|^([0-9]{1,3}\\.[0-9]{3}\\.[0-9]{1,3})|^([0-9]{1,3}\\.[0-9]{1,3})'\n",
    "    pattern_deaths = r'(\\b([0-9]{1,3}\\.[0-9]{3}\\.[0-9]{1,3})\\n|\\b([0-9]{1,3}\\.[0-9]{1,3})\\n|[0-9]{1,2}\\.[0-9]\\s\\s[0-9]{1,3}\\s\\n)'\n",
    "    text = pdf_data.pages[0].extract_text()\n",
    "    total_confirmed = re.search(pattern_cases, text, re.MULTILINE)[0]\n",
    "    total_death = re.search(pattern_deaths, text, re.MULTILINE)[0]\n",
    "    # removing dots and breaklines\n",
    "    total_confirmed = re.sub(r\"\\.|\\n|\\s\", \"\", total_confirmed)\n",
    "    total_death = re.sub(r\"\\.|\\n|\\s\", \"\", total_death)\n",
    "    return [int(total_confirmed), int(total_death)]"
   ]
  },
  {
   "cell_type": "code",
   "execution_count": 9,
   "metadata": {},
   "outputs": [],
   "source": [
    "# Loading excel file from url\n",
    "url = \"https://coronavirus.saude.mg.gov.br/images/microdados/xlsx_painel.xlsx\"\n",
    "file = urllib.request.urlopen(url).read()\n",
    "wb = openpyxl.load_workbook(filename = BytesIO(file), read_only=True)\n",
    "pages = wb.sheetnames"
   ]
  },
  {
   "cell_type": "code",
   "execution_count": 10,
   "metadata": {
    "tags": []
   },
   "outputs": [],
   "source": [
    "# Getting cities IBGE code\r\n",
    "with open(\"cod_mun_MG.csv\", mode=\"r\", encoding=\"utf-8\") as fobj:\r\n",
    "    reader = csv.reader(fobj)\r\n",
    "    mun_cod_dict = {str(row[1])[:6]:row[0] for row in reader}"
   ]
  },
  {
   "cell_type": "code",
   "execution_count": 11,
   "metadata": {},
   "outputs": [],
   "source": [
    "# Excel file basedo on page returning dict city_code, value and date\n",
    "def excel_data(page):\n",
    "    ws = wb[pages[page]]\n",
    "    data = [list(row) for row in ws.iter_rows(values_only=True)]\n",
    "\n",
    "    headers = [data[0][3], data[0][1], data[0][2]] \n",
    "    values = [[row[3], row[1], row[2]] for row in data[1:]]\n",
    "    \n",
    "    result = []\n",
    "    for value in values:\n",
    "        result.append(dict(zip(headers, value)))\n",
    "    return result"
   ]
  },
  {
   "cell_type": "code",
   "execution_count": 12,
   "metadata": {
    "tags": []
   },
   "outputs": [],
   "source": [
    "# Dates to generate csv\n",
    "dates = [\"2021-04-29\", \"2021-04-28\", \"2021-04-27\", \"2021-04-26\", \"2021-04-23\", \"2021-04-22\", \"2021-04-21\", \"2021-04-20\",\"2021-04-19\", \"2021-04-16\", \"2021-04-15\", \"2021-04-14\", \"2021-04-13\", \"2021-04-12\",\"2021-04-09\",\"2021-04-08\", \"2021-04-07\",\"2021-04-06\", \"2021-04-05\"]\n",
    "# Loop to generate based on date\n",
    "for date in dates:\n",
    "    # Getting total values from pdf\n",
    "    total_confirmed_pdf, total_death_pdf = total_values_pdf(\"/\".join(date.split(\"-\")[::-1]))\n",
    "    \n",
    "    date = datetime.datetime.strptime(date, '%Y-%m-%d').date()\n",
    "    # Scraping data and generating csv\n",
    "    confirmed = excel_data(0)\n",
    "    death = excel_data(1)\n",
    "    result = []\n",
    "    for key, val in mun_cod_dict.items():\n",
    "        key = str(key)\n",
    "        result.append([val,\n",
    "            sum([item[\"NUM_CASOS\"] for item in confirmed if str(item[\"CodigoIBGE\"]) == key and item[\"DATA\"].date() <= date]),\n",
    "            sum([item[\"NUM_OBITOS\"] for item in death if str(item[\"CodigoIBGE\"]) == key and item[\"DATA\"].date() <= date])\n",
    "        ])\n",
    "    # Generating csv\n",
    "    output_file = f\"MG_{date}.csv\"\n",
    "    with open(output_file, mode=\"w\", encoding=\"utf-8\", newline=\"\") as fobj:\n",
    "        writer = csv.DictWriter(fobj, fieldnames=[\"municipio\", \"confirmados\", \"mortes\"])\n",
    "        writer.writeheader()\n",
    "    \n",
    "        confirmed_total = 0\n",
    "        death_total = 0\n",
    "        mun_result = []\n",
    "        for municipio in result:\n",
    "            confirmed_total += int(municipio[1])\n",
    "            death_total += int(municipio[2])\n",
    "            mun_result.append(\n",
    "                {\n",
    "                    \"municipio\": municipio[0],\n",
    "                    \"confirmados\": municipio[1],\n",
    "                    \"mortes\": municipio[2],\n",
    "                }\n",
    "            )\n",
    "        # Importados e Indeninidos\n",
    "        imp_ind_confirmed = sum([item[\"NUM_CASOS\"] for item in confirmed if item[\"CodigoIBGE\"] == None and item[\"DATA\"].date() <= date])\n",
    "        imp_ind_deaths = sum([item[\"NUM_OBITOS\"] for item in death if item[\"CodigoIBGE\"] == None and item[\"DATA\"].date() <= date])\n",
    "        \n",
    "        if total_confirmed_pdf == confirmed_total + imp_ind_confirmed:\n",
    "            confirmed_total = total_confirmed_pdf\n",
    "        else:\n",
    "            print(\"Fail\", output_file, \"Comparação valores de confirmados apresentou resultados diferentes\")\n",
    "            confirmed_total = 0\n",
    "        if total_death_pdf == death_total + imp_ind_deaths:\n",
    "            death_total = total_death_pdf\n",
    "        else:\n",
    "            print(\"Fail\", output_file, \"Comparação valores de mortes apresentou resultados diferentes\")\n",
    "            death_total = 0\n",
    "        writer.writerows(mun_result)\n",
    "        writer.writerow(\n",
    "                {\n",
    "                        \"municipio\": \"Importados/Indefinidos\",\n",
    "                        \"confirmados\": imp_ind_confirmed,\n",
    "                        \"mortes\": imp_ind_deaths\n",
    "                }\n",
    "        )\n",
    "        writer.writerow(\n",
    "                {\n",
    "                        \"municipio\": \"TOTAL NO ESTADO\",\n",
    "                        \"confirmados\": confirmed_total,\n",
    "                        \"mortes\": death_total,\n",
    "                }\n",
    "        )"
   ]
  }
 ]
}