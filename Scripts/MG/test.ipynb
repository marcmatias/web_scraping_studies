{
 "cells": [
  {
   "cell_type": "code",
   "execution_count": 46,
   "metadata": {},
   "outputs": [],
   "source": [
    "# importing pandas as pd\n",
    "from bs4 import BeautifulSoup\n",
    "\n",
    "# Pdf checker\n",
    "import re\n",
    "import pdfplumber\n",
    "\n",
    "import requests\n",
    "from io import BytesIO\n",
    "\n",
    "from urllib.request import urlopen\n"
   ]
  },
  {
   "cell_type": "code",
   "execution_count": 47,
   "metadata": {},
   "outputs": [],
   "source": [
    "def total_values_pdf(date):\r\n",
    "    # # Getting url link for pdf in official page\r\n",
    "    # url = 'https://coronavirus.saude.mg.gov.br/boletim'\r\n",
    "    # u = urlopen(url)\r\n",
    "    # try:\r\n",
    "    #     html = u.read().decode('utf-8')\r\n",
    "    # finally:\r\n",
    "    #     u.close()\r\n",
    "\r\n",
    "    # soup = BeautifulSoup(html, \"html.parser\")\r\n",
    "    # url_pdf_link = soup.find('a', string=lambda value: value and value.endswith(date))[\"href\"]\r\n",
    "\r\n",
    "    # Request and Open PDF file\r\n",
    "    try:\r\n",
    "        rq = requests.get(f\"https://www.vs.saude.ms.gov.br/wp-content/uploads/2021/05/Boletim-Epidemiologico-COVID-19-2021.05.01.pdf\")\r\n",
    "        pdf_data = pdfplumber.open(BytesIO(rq.content))\r\n",
    "    except Exception as e:\r\n",
    "        print(e)\r\n",
    "    \r\n",
    "        \r\n",
    "    # print(pdf_data.pages[0].extract_text())\r\n",
    "\r\n",
    "    pattern_cases = r'[0-9]{3}%\\s([\\d]{3}\\.[\\d]{3})'\r\n",
    "    pattern_deaths = r'^([\\d]{1,3}\\.[\\d]{3})\\s[\\d]{1,3}\\,[\\d]{1,2}%'\r\n",
    "    \r\n",
    "    # pattern_cases = r'^([0-9]{1,3}\\.[0-9]{3}\\s\\.[0-9]{1,3})|^([0-9]{1,3}\\.[0-9]{3}\\.[0-9]{1,3})|^([0-9]{1,3}\\.[0-9]{1,3})'\r\n",
    "    # pattern_deaths = r'(\\b([0-9]{1,3}\\.[0-9]{3}\\.[0-9]{1,3})\\n|\\b([0-9]{1,3}\\.[0-9]{1,3})\\n|[0-9]{1,2}\\.[0-9]\\s\\s[0-9]{1,3}\\s\\n)'\r\n",
    "    \r\n",
    "    # Extracting data\r\n",
    "    text = pdf_data.pages[0].extract_text()\r\n",
    "    total_confirmed = re.search(pattern_cases, text, re.MULTILINE)[0].split(\" \")[1]\r\n",
    "    total_death = re.search(pattern_deaths, text, re.MULTILINE)[0].split(\" \")[0]\r\n",
    "    \r\n",
    "    # Removing dots and breaklines\r\n",
    "    total_confirmed = re.sub(r\"\\.|\\n|\\s\", \"\", total_confirmed)\r\n",
    "    total_death = re.sub(r\"\\.|\\n|\\s\", \"\", total_death)\r\n",
    "    \r\n",
    "    return [int(total_confirmed), int(total_death)]"
   ]
  },
  {
   "cell_type": "code",
   "execution_count": 48,
   "metadata": {},
   "outputs": [
    {
     "name": "stdout",
     "output_type": "stream",
     "text": [
      "[249033, 5759]\n"
     ]
    }
   ],
   "source": [
    "print(total_values_pdf(\"01/05/2021\"))"
   ]
  }
 ],
 "metadata": {
  "kernelspec": {
   "display_name": "Python 3.8.8  ('webscreaping_venv': venv)",
   "name": "pythonjvsc74a57bd01c3b4f3a3e2c3e8780cfee43d81b915f3aa66dace7bef9eda32c5a7dd9110afb"
  },
  "language_info": {
   "codemirror_mode": {
    "name": "ipython",
    "version": 3
   },
   "file_extension": ".py",
   "mimetype": "text/x-python",
   "name": "python",
   "nbconvert_exporter": "python",
   "pygments_lexer": "ipython3",
   "version": "3.8.8"
  },
  "metadata": {
   "interpreter": {
    "hash": "1c3b4f3a3e2c3e8780cfee43d81b915f3aa66dace7bef9eda32c5a7dd9110afb"
   }
  },
  "orig_nbformat": 2
 },
 "nbformat": 4,
 "nbformat_minor": 2
}