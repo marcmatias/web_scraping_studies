{
 "metadata": {
  "language_info": {
   "codemirror_mode": {
    "name": "ipython",
    "version": 3
   },
   "file_extension": ".py",
   "mimetype": "text/x-python",
   "name": "python",
   "nbconvert_exporter": "python",
   "pygments_lexer": "ipython3",
   "version": "3.8.8"
  },
  "orig_nbformat": 2,
  "kernelspec": {
   "name": "python388jvsc74a57bd09ebd6828ea59e2beeb7124697658ae9b6022b4594ded89576638a0382040f87e",
   "display_name": "Python 3.8.8 64-bit ('myenv': venv)"
  },
  "metadata": {
   "interpreter": {
    "hash": "63fd5069d213b44bf678585dea6b12cceca9941eaf7f819626cde1f2670de90d"
   }
  }
 },
 "nbformat": 4,
 "nbformat_minor": 2,
 "cells": [
  {
   "cell_type": "code",
   "execution_count": 7,
   "metadata": {},
   "outputs": [],
   "source": [
    "# importing pandas as pd\n",
    "from bs4 import BeautifulSoup\n",
    "\n",
    "# Pdf checker\n",
    "import re\n",
    "import pdfplumber\n",
    "\n",
    "import requests\n",
    "from io import BytesIO\n",
    "\n",
    "from urllib.request import urlopen\n"
   ]
  },
  {
   "cell_type": "code",
   "execution_count": 8,
   "metadata": {},
   "outputs": [],
   "source": [
    "def total_values_pdf(date):\n",
    "    # Getting url link for pdf in official page\n",
    "    url = 'https://coronavirus.saude.mg.gov.br/boletim'\n",
    "    u = urlopen(url)\n",
    "    try:\n",
    "        html = u.read().decode('utf-8')\n",
    "    finally:\n",
    "        u.close()\n",
    "\n",
    "    soup = BeautifulSoup(html, \"html.parser\")\n",
    "    url_pdf_link = soup.find('a', string=lambda value: value and value.endswith(date))[\"href\"]\n",
    "\n",
    "    # Request and Open PDF file\n",
    "    try:\n",
    "        rq = requests.get(f\"https://coronavirus.saude.mg.gov.br{url_pdf_link}\")\n",
    "        pdf_data = pdfplumber.open(BytesIO(rq.content))\n",
    "    except Exception as e:\n",
    "        print(e)\n",
    "\n",
    "    # Extracting data\n",
    "    text = pdf_data.pages[0].extract_text()\n",
    "    total_confirmed = re.search(r'^([0-9]{1,3}\\.[0-9]{3}\\.[0-9]{1,3})|^([0-9]{1,3}\\.[0-9]{1,3})', text, re.MULTILINE)[0]\n",
    "    total_death = re.search(r'(\\b([0-9]{1,3}\\.[0-9]{3}\\.[0-9]{1,3})\\n|\\b([0-9]{1,3}\\.[0-9]{1,3})\\n)', text, re.MULTILINE)[0]\n",
    "    # removing dots and breaklines\n",
    "    total_confirmed = re.sub(r\"\\.|\\n\", \"\", total_confirmed)\n",
    "    total_death = re.sub(r\"\\.|\\n\", \"\", total_death)\n",
    "    return [int(total_confirmed), int(total_death)]"
   ]
  },
  {
   "cell_type": "code",
   "execution_count": 9,
   "metadata": {},
   "outputs": [
    {
     "output_type": "stream",
     "name": "stdout",
     "text": [
      "[1451836, 37005]\n"
     ]
    }
   ],
   "source": [
    "print(total_values_pdf(\"14/05/2021\"))"
   ]
  }
 ]
}