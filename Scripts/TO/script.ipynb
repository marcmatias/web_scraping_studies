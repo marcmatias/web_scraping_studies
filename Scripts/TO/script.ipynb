{
 "cells": [
  {
   "cell_type": "code",
   "execution_count": 1,
   "metadata": {
    "tags": []
   },
   "outputs": [],
   "source": [
    "import csv\r\n",
    "import json\r\n",
    "from urllib.request import urlopen\r\n",
    "\r\n",
    "output_filename = \"tocantins.csv\"\r\n",
    "\r\n",
    "url_casos_totais = \"http://integra.saude.to.gov.br/Api/GetReleasesCovid?id=247\"\r\n",
    "url_obitos_totais = \"http://integra.saude.to.gov.br/Api/GetReleasesCovid?id=249\"\r\n",
    "url_municipios = \"http://integra.saude.to.gov.br/Api/GetReleasesCovid?id=250\"\r\n",
    "\r\n",
    "def download_data(url):\r\n",
    "    response = json.loads(urlopen(url).read())\r\n",
    "    data = json.loads(response[\"Retorno\"])\r\n",
    "    header = [item[\"colName\"] for item in data[\"metadata\"]]\r\n",
    "    values = data[\"resultset\"]\r\n",
    "    result = []\r\n",
    "    for row in values:\r\n",
    "        row = dict(zip(header, row))\r\n",
    "        result.append(row)\r\n",
    "    return result\r\n",
    "\r\n",
    "casos_totais = download_data(url_casos_totais)\r\n",
    "obitos_totais = download_data(url_obitos_totais)\r\n",
    "municipios = download_data(url_municipios)\r\n",
    "\r\n",
    "with open(output_filename, mode=\"w\", encoding=\"utf-8\", newline=\"\") as fobj:\r\n",
    "    writer = csv.DictWriter(fobj, fieldnames=[\"municipio\", \"confirmados\", \"obitos\"])\r\n",
    "    writer.writeheader()\r\n",
    "    writer.writerow(\r\n",
    "        {\r\n",
    "            \"municipio\": \"TOTAL NO ESTADO\",\r\n",
    "            \"confirmados\": casos_totais[0][\"Casos Confirmados\"],\r\n",
    "            \"obitos\": obitos_totais[0][\"Óbitos\"],\r\n",
    "        }\r\n",
    "    )\r\n",
    "    for municipio in municipios:\r\n",
    "        nome = municipio[\"Município\"]\r\n",
    "        if nome == \"Fortaleza do Tabocão\":\r\n",
    "            nome = \"Tabocão\"\r\n",
    "        writer.writerow(\r\n",
    "            {\r\n",
    "                \"municipio\": nome,\r\n",
    "                \"confirmados\": municipio[\"Casos Confirmados\"],\r\n",
    "                \"obitos\": municipio[\"Óbitos\"],\r\n",
    "            }\r\n",
    "        )"
   ]
  }
 ],
 "metadata": {
  "interpreter": {
   "hash": "9bcfbcb8ab2cb80a481072a3cca9f0f9f1b765920b23f0e202d2d845decbede7"
  },
  "kernelspec": {
   "display_name": "Python 3.8.8 64-bit",
   "name": "python3"
  },
  "language_info": {
   "codemirror_mode": {
    "name": "ipython",
    "version": 3
   },
   "file_extension": ".py",
   "mimetype": "text/x-python",
   "name": "python",
   "nbconvert_exporter": "python",
   "pygments_lexer": "ipython3",
   "version": "3.8.8"
  },
  "orig_nbformat": 2
 },
 "nbformat": 4,
 "nbformat_minor": 2
}