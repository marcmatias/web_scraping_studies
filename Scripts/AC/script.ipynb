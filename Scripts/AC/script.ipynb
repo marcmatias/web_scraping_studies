{
 "cells": [
  {
   "cell_type": "code",
   "execution_count": 1,
   "metadata": {},
   "outputs": [],
   "source": [
    "import camelot\r\n",
    "import pdfplumber\r\n",
    "import re\r\n",
    "import requests\r\n",
    "from io import BytesIO\r\n",
    "\r\n",
    "from datetime import datetime, timedelta"
   ]
  },
  {
   "cell_type": "code",
   "execution_count": 2,
   "metadata": {},
   "outputs": [],
   "source": [
    "def pdf_tables(url):\r\n",
    "    tables = camelot.read_pdf(url, pages='1-8', strip_text=\".\")\r\n",
    "    return tables"
   ]
  },
  {
   "cell_type": "code",
   "execution_count": 3,
   "metadata": {},
   "outputs": [],
   "source": [
    "def total_values_pdf(url):\r\n",
    "    # Request and Open PDF file\r\n",
    "    try:\r\n",
    "        rq = requests.get(url)\r\n",
    "        pdf_data = pdfplumber.open(BytesIO(rq.content))\r\n",
    "    except Exception as e:\r\n",
    "        print(e)\r\n",
    "\r\n",
    "    # Extracting data\r\n",
    "    pdf_data = pdf_data.pages[0].extract_text()\r\n",
    "    \r\n",
    "    total_confirmed = re.findall(\r\n",
    "        r'(^\\d{1,3}[.]\\d{1,3})[ ]{2}\\d{1,3}[.]', pdf_data, re.MULTILINE)[0]\r\n",
    "    total_death = re.findall(\r\n",
    "        r'(^\\d{1,3}[.]\\d{1,3})[ ]\\n\\s', pdf_data, re.MULTILINE)[0]\r\n",
    "    \r\n",
    "    return [int(total_confirmed.replace(\".\", \"\")), int(total_death.replace(\".\", \"\"))]"
   ]
  },
  {
   "cell_type": "code",
   "execution_count": 4,
   "metadata": {},
   "outputs": [],
   "source": [
    "def add_new_row(data_frame, name_row, t_confirmado, t_obito):\r\n",
    "    data_frame.loc[-1] = [name_row, t_confirmado, t_obito]  # adding a row\r\n",
    "    data_frame.index = data_frame.index + 1  # shifting index\r\n",
    "    return data_frame.sort_index()  # sorting by index"
   ]
  },
  {
   "cell_type": "code",
   "execution_count": 5,
   "metadata": {},
   "outputs": [
    {
     "name": "stdout",
     "output_type": "stream",
     "text": [
      "2021-05-20 Success!!\n",
      "2021-05-19 Success!!\n",
      "2021-05-18 Success!!\n"
     ]
    }
   ],
   "source": [
    "dates = [\"2021-05-20\", \"2021-05-19\", \"2021-05-20\"]\r\n",
    "\r\n",
    "for date in dates:\r\n",
    "\r\n",
    "    day = date[8:]\r\n",
    "    month = date[5:7]\r\n",
    "    year = date[:4]\r\n",
    "    url = f\"https://agencia.ac.gov.br/wp-content/uploads/{year}/{month}/BOLETIM_AC_COVID_{day}-{month}-{year}.pdf\"\r\n",
    "    tables = pdf_tables(url)\r\n",
    "    conf_first_page, deaths_first_page = total_values_pdf(url)\r\n",
    "\r\n",
    "    for i in range(len(tables)-1):\r\n",
    "        table = tables[i].df\r\n",
    "        if table.at[0, 0] == \"Municípios\" and table.at[0, 1] == \"Nº de testes \\nrealizados\":\r\n",
    "            table = table[[0, 2, 4]].drop([0, 0]).rename(\r\n",
    "                columns={0: \"municipio\", 2: \"confirmados\", 4: \"mortes\"})\r\n",
    "\r\n",
    "            # Total values from lest row\r\n",
    "            last_row_df = table.iloc[-1].name\r\n",
    "            total_conf_table = table.at[last_row_df, \"confirmados\"]\r\n",
    "            total_deaths_gov = table.at[last_row_df, \"mortes\"]\r\n",
    "\r\n",
    "            # Remove unecessary 1 last lines\r\n",
    "            table.drop(table.tail(1).index, inplace=True)\r\n",
    "\r\n",
    "            # Sum total numbers\r\n",
    "            total_conf = table[\"confirmados\"].astype(int).sum()\r\n",
    "            total_deaths = table[\"mortes\"].astype(int).sum()\r\n",
    "\r\n",
    "            # Adding new row to data_frame with total numbers\r\n",
    "            table = add_new_row(table, \"Importados/Indefinidos\", 0, 0)\r\n",
    "            table = add_new_row(table, \"TOTAL NO ESTADO\",\r\n",
    "                                total_conf, total_deaths)\r\n",
    "\r\n",
    "            # If totals results are equals confirmed and deaths\r\n",
    "            total_table_check = total_conf == int(\r\n",
    "                total_conf_table) and total_deaths == int(total_deaths_gov)\r\n",
    "            total_pdf_first_page_check = total_conf == conf_first_page and total_deaths == deaths_first_page\r\n",
    "\r\n",
    "            if total_table_check and total_pdf_first_page_check:\r\n",
    "                print(date, \"Success!!\")\r\n",
    "            else:\r\n",
    "                print(date, \"Resultados diferentes \", \"Confirmados: \", total_conf,\r\n",
    "                      total_conf_table, conf_first_page, \"Mortes: \", total_deaths, total_deaths_gov, deaths_first_page)\r\n",
    "            \r\n",
    "            # Generate date to file name\r\n",
    "            date_file_name = datetime.strptime(date, \"%Y-%m-%d\") - timedelta(days=1)\r\n",
    "            \r\n",
    "            # Setting a filename\r\n",
    "            filename = f\"AC_{datetime.strftime(date_file_name,'%Y-%m-%d')}.csv\"\r\n",
    "            \r\n",
    "            # Change specific city name when occurs\r\n",
    "            table.replace(\"Brasileia\", \"Brasiléia\", inplace=True)\r\n",
    "            table.replace(\"M Thaumaturgo\", \"Marechal Thaumaturgo\", inplace=True)\r\n",
    "            \r\n",
    "            table.to_csv(filename, index=False)"
   ]
  }
 ],
 "metadata": {
  "kernelspec": {
   "display_name": "Python 3.8.8 64-bit",
   "name": "python388jvsc74a57bd09bcfbcb8ab2cb80a481072a3cca9f0f9f1b765920b23f0e202d2d845decbede7"
  },
  "language_info": {
   "name": "python",
   "version": ""
  },
  "metadata": {
   "interpreter": {
    "hash": "1c3b4f3a3e2c3e8780cfee43d81b915f3aa66dace7bef9eda32c5a7dd9110afb"
   }
  },
  "orig_nbformat": 3
 },
 "nbformat": 4,
 "nbformat_minor": 4
}