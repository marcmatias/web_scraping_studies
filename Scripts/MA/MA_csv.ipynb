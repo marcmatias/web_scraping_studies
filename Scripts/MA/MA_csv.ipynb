{
 "metadata": {
  "language_info": {
   "codemirror_mode": {
    "name": "ipython",
    "version": 3
   },
   "file_extension": ".py",
   "mimetype": "text/x-python",
   "name": "python",
   "nbconvert_exporter": "python",
   "pygments_lexer": "ipython3",
   "version": "3.8.8"
  },
  "orig_nbformat": 2,
  "kernelspec": {
   "name": "python388jvsc74a57bd00c2e7e3db583b5d09671684abc967ad2a40654044959b8f4c9cc6fea5ac782e4",
   "display_name": "Python 3.8.8  ('myenv': venv)"
  },
  "metadata": {
   "interpreter": {
    "hash": "0c2e7e3db583b5d09671684abc967ad2a40654044959b8f4c9cc6fea5ac782e4"
   }
  }
 },
 "nbformat": 4,
 "nbformat_minor": 2,
 "cells": [
  {
   "cell_type": "code",
   "execution_count": 10,
   "metadata": {},
   "outputs": [],
   "source": [
    "import re\n",
    "import pdfplumber\n",
    "\n",
    "import requests\n",
    "from io import BytesIO\n",
    "\n",
    "from urllib.request import urlopen\n",
    "\n",
    "import json\n",
    "import csv"
   ]
  },
  {
   "cell_type": "code",
   "execution_count": 11,
   "metadata": {},
   "outputs": [],
   "source": [
    "def total_values_pdf(date):\n",
    "    # Request and Open PDF file\n",
    "    try:\n",
    "        rq = requests.get(f\"https://www.saude.ma.gov.br/wp-content/uploads/2021/{date[2:]}/BOLETIM-{date[:2]}-{date[2:]}.pdf\")\n",
    "        pdf_data = pdfplumber.open(BytesIO(rq.content))\n",
    "    except Exception as e:\n",
    "        print(e)\n",
    "\n",
    "    # Extracting date\n",
    "    total_confirmed = re.search(r'\\d{6}',pdf_data.pages[0].extract_text()).group(0)\n",
    "    total_death = re.search(r'\\b\\d{4}\\b(?!\\n)',pdf_data.pages[0].extract_text()).group(0)\n",
    "    return [total_confirmed, total_death]"
   ]
  },
  {
   "cell_type": "code",
   "execution_count": 12,
   "metadata": {
    "tags": []
   },
   "outputs": [
    {
     "output_type": "error",
     "ename": "AttributeError",
     "evalue": "'NoneType' object has no attribute 'group'",
     "traceback": [
      "\u001b[1;31m---------------------------------------------------------------------------\u001b[0m",
      "\u001b[1;31mAttributeError\u001b[0m                            Traceback (most recent call last)",
      "\u001b[1;32m<ipython-input-12-df617a138675>\u001b[0m in \u001b[0;36m<module>\u001b[1;34m\u001b[0m\n\u001b[0;32m      4\u001b[0m \u001b[1;32mfor\u001b[0m \u001b[0mdate\u001b[0m \u001b[1;32min\u001b[0m \u001b[0mdates\u001b[0m\u001b[1;33m:\u001b[0m\u001b[1;33m\u001b[0m\u001b[1;33m\u001b[0m\u001b[0m\n\u001b[0;32m      5\u001b[0m         \u001b[1;31m# Getting total values from pdf\u001b[0m\u001b[1;33m\u001b[0m\u001b[1;33m\u001b[0m\u001b[1;33m\u001b[0m\u001b[0m\n\u001b[1;32m----> 6\u001b[1;33m         \u001b[0mtotal_confirmed\u001b[0m\u001b[1;33m,\u001b[0m \u001b[0mtotal_death\u001b[0m \u001b[1;33m=\u001b[0m \u001b[0mtotal_values_pdf\u001b[0m\u001b[1;33m(\u001b[0m\u001b[0mdate\u001b[0m\u001b[1;33m)\u001b[0m\u001b[1;33m\u001b[0m\u001b[1;33m\u001b[0m\u001b[0m\n\u001b[0m\u001b[0;32m      7\u001b[0m \u001b[1;33m\u001b[0m\u001b[0m\n\u001b[0;32m      8\u001b[0m         \u001b[0mcsv_url\u001b[0m \u001b[1;33m=\u001b[0m \u001b[1;34mf'http://www.saude.ma.gov.br/wp-content/uploads/2021/{date[2:]}/Dados-Gerais-{date}.csv'\u001b[0m\u001b[1;33m\u001b[0m\u001b[1;33m\u001b[0m\u001b[0m\n",
      "\u001b[1;32m<ipython-input-11-b97a7c6225e3>\u001b[0m in \u001b[0;36mtotal_values_pdf\u001b[1;34m(date)\u001b[0m\n\u001b[0;32m      9\u001b[0m     \u001b[1;31m# Extracting date\u001b[0m\u001b[1;33m\u001b[0m\u001b[1;33m\u001b[0m\u001b[1;33m\u001b[0m\u001b[0m\n\u001b[0;32m     10\u001b[0m     \u001b[0mtotal_confirmed\u001b[0m \u001b[1;33m=\u001b[0m \u001b[0mre\u001b[0m\u001b[1;33m.\u001b[0m\u001b[0msearch\u001b[0m\u001b[1;33m(\u001b[0m\u001b[1;34mr'\\d{6}'\u001b[0m\u001b[1;33m,\u001b[0m\u001b[0mpdf_data\u001b[0m\u001b[1;33m.\u001b[0m\u001b[0mpages\u001b[0m\u001b[1;33m[\u001b[0m\u001b[1;36m0\u001b[0m\u001b[1;33m]\u001b[0m\u001b[1;33m.\u001b[0m\u001b[0mextract_text\u001b[0m\u001b[1;33m(\u001b[0m\u001b[1;33m)\u001b[0m\u001b[1;33m)\u001b[0m\u001b[1;33m.\u001b[0m\u001b[0mgroup\u001b[0m\u001b[1;33m(\u001b[0m\u001b[1;36m0\u001b[0m\u001b[1;33m)\u001b[0m\u001b[1;33m\u001b[0m\u001b[1;33m\u001b[0m\u001b[0m\n\u001b[1;32m---> 11\u001b[1;33m     \u001b[0mtotal_death\u001b[0m \u001b[1;33m=\u001b[0m \u001b[0mre\u001b[0m\u001b[1;33m.\u001b[0m\u001b[0msearch\u001b[0m\u001b[1;33m(\u001b[0m\u001b[1;34mr'\\b\\d{4}\\b(?!\\n)'\u001b[0m\u001b[1;33m,\u001b[0m\u001b[0mpdf_data\u001b[0m\u001b[1;33m.\u001b[0m\u001b[0mpages\u001b[0m\u001b[1;33m[\u001b[0m\u001b[1;36m0\u001b[0m\u001b[1;33m]\u001b[0m\u001b[1;33m.\u001b[0m\u001b[0mextract_text\u001b[0m\u001b[1;33m(\u001b[0m\u001b[1;33m)\u001b[0m\u001b[1;33m)\u001b[0m\u001b[1;33m.\u001b[0m\u001b[0mgroup\u001b[0m\u001b[1;33m(\u001b[0m\u001b[1;36m0\u001b[0m\u001b[1;33m)\u001b[0m\u001b[1;33m\u001b[0m\u001b[1;33m\u001b[0m\u001b[0m\n\u001b[0m\u001b[0;32m     12\u001b[0m     \u001b[1;32mreturn\u001b[0m \u001b[1;33m[\u001b[0m\u001b[0mtotal_confirmed\u001b[0m\u001b[1;33m,\u001b[0m \u001b[0mtotal_death\u001b[0m\u001b[1;33m]\u001b[0m\u001b[1;33m\u001b[0m\u001b[1;33m\u001b[0m\u001b[0m\n",
      "\u001b[1;31mAttributeError\u001b[0m: 'NoneType' object has no attribute 'group'"
     ]
    }
   ],
   "source": [
    "# Dates to generate csv and check with pdf\n",
    "# Get csv and pdf from http daymonth\n",
    "dates = ['0204']\n",
    "for date in dates:\n",
    "        # Getting total values from pdf \n",
    "        total_confirmed, total_death = total_values_pdf(date)\n",
    "\n",
    "        csv_url = f'http://www.saude.ma.gov.br/wp-content/uploads/2021/{date[2:]}/Dados-Gerais-{date}.csv'\n",
    "\n",
    "        # Getting csv from url\n",
    "        text = requests.get(csv_url).iter_lines()\n",
    "        # Reading the csv, decoding and delimiting rows\n",
    "        reader = csv.reader([item.decode(\"latin-1\") for item in text], delimiter=';')\n",
    "        data = [item for item in reader]\n",
    "        headers = data[2][:3]\n",
    "        values = [item[:3] for item in data[3:]]\n",
    "        result = []\n",
    "        [result.append(dict(zip(headers, values))) for values in values]\n",
    "\n",
    "        output_filename = f\"MA_2021_{date[2:]}_{date[:2]}.csv\"\n",
    "        with open(output_filename, mode=\"w\", encoding=\"utf-8\", newline=\"\") as fobj:\n",
    "                writer = csv.DictWriter(fobj, fieldnames=[\"municipio\", \"confirmados\", \"mortes\"])\n",
    "                writer.writeheader()\n",
    "\n",
    "                confirmed = 0\n",
    "                death = 0\n",
    "                rows_list = []\n",
    "                for row in result:\n",
    "                        len_mun = len(row)\n",
    "                        if len_mun != 0 and len_mun < 30:\n",
    "                                if row[\"MUNICÍPIOS\"] and row[\"CONFIRMADO\"] and row[\"ÓBITO\"]:\n",
    "                                        confirmed += int(row[\"CONFIRMADO\"])\n",
    "                                        death += int(row[\"ÓBITO\"])\n",
    "                                        if row[\"MUNICÍPIOS\"].title() == \"Peri-Mirim\":\n",
    "                                                row[\"MUNICÍPIOS\"] = \"Peri Mirim\"\n",
    "                                        elif row[\"MUNICÍPIOS\"].title() == \"Itapecuru-Mirim\":\n",
    "                                                row[\"MUNICÍPIOS\"] = \"Itapecuru Mirim\"\n",
    "                                        elif row[\"MUNICÍPIOS\"].title() == \"São João Do Sóter\":\n",
    "                                                row[\"MUNICÍPIOS\"] = \"São João do Soter\"\n",
    "                                        rows_list.append(\n",
    "                                                {\n",
    "                                                        \"municipio\": row[\"MUNICÍPIOS\"].title(),\n",
    "                                                        \"confirmados\": row[\"CONFIRMADO\"],\n",
    "                                                        \"mortes\": row[\"ÓBITO\"],\n",
    "                                                }\n",
    "                                        )\n",
    "                if confirmed == int(total_confirmed) and death == int(total_death):\n",
    "                        confirmed_final = confirmed\n",
    "                        death_final = death\n",
    "                        print(\"Success!\", output_filename)\n",
    "                else:\n",
    "                        confirmed_final =  \"\"\n",
    "                        death_final =  \"\"\n",
    "                        print(\n",
    "                                \"Failed!\", output_filename,\n",
    "                                \"Confirmados:\", confirmed,\n",
    "                                \"Confirmados_pdf:\", total_confirmed,\n",
    "                                \"Mortes:\", death,\n",
    "                                \"Mortes_pdf:\", total_death,\n",
    "                        )\n",
    "                writer.writerow(\n",
    "                        {\n",
    "                                \"municipio\": \"TOTAL NO ESTADO\",\n",
    "                                \"confirmados\": confirmed_final,\n",
    "                                \"mortes\": death_final,\n",
    "                        }\n",
    "                )\n",
    "                writer.writerow(\n",
    "                        {\n",
    "                                \"municipio\": \"Importados/Indefinidos\",\n",
    "                                \"confirmados\": \"\",\n",
    "                                \"mortes\": \"\",\n",
    "                        }\n",
    "                )\n",
    "                writer.writerows(rows_list)\n",
    "\n",
    "print(\"Script ended\")"
   ]
  }
 ]
}