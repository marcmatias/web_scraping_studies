{
 "metadata": {
  "language_info": {
   "codemirror_mode": {
    "name": "ipython",
    "version": 3
   },
   "file_extension": ".py",
   "mimetype": "text/x-python",
   "name": "python",
   "nbconvert_exporter": "python",
   "pygments_lexer": "ipython3",
   "version": "3.8.8"
  },
  "orig_nbformat": 2,
  "kernelspec": {
   "name": "python388jvsc74a57bd09ebd6828ea59e2beeb7124697658ae9b6022b4594ded89576638a0382040f87e",
   "display_name": "Python 3.8.8 64-bit"
  },
  "metadata": {
   "interpreter": {
    "hash": "63fd5069d213b44bf678585dea6b12cceca9941eaf7f819626cde1f2670de90d"
   }
  }
 },
 "nbformat": 4,
 "nbformat_minor": 2,
 "cells": [
  {
   "cell_type": "code",
   "execution_count": 26,
   "metadata": {},
   "outputs": [],
   "source": [
    "import pandas as pd\n",
    "import unidecode"
   ]
  },
  {
   "cell_type": "code",
   "execution_count": 27,
   "metadata": {},
   "outputs": [],
   "source": [
    "def new_row(dados, municipio, confirmados, mortes):\n",
    "    dict_add_rows = {'municipio':[municipio,]\n",
    "                    , 'confirmados': confirmados\n",
    "                    , 'mortes': mortes}\n",
    "    return pd.concat([pd.DataFrame(dict_add_rows), dados]).reset_index(drop=True)"
   ]
  },
  {
   "cell_type": "code",
   "execution_count": 28,
   "metadata": {
    "tags": []
   },
   "outputs": [
    {
     "output_type": "display_data",
     "data": {
      "text/plain": "                MUNICÍPIOS  CONFIRMADO  ÓBITO  Unnamed: 3          SUSPEITOS  \\\n0               AÇAILÂNDIA      3978.0  116.0         NaN              1.475   \n1             AFONSO CUNHA       152.0    2.0         NaN                NaN   \n2    ÁGUA DOCE DO MARANHÃO       662.0    7.0         NaN  CASOS CONFIRMADOS   \n3                ALCÂNTARA       202.0    8.0         NaN             STATUS   \n4            ALDEIAS ALTAS       973.0   11.0         NaN             Ativos   \n..                     ...         ...    ...         ...                ...   \n233                    NaN         NaN    NaN         NaN                NaN   \n234                    NaN         NaN    NaN         NaN                NaN   \n235                    NaN         NaN    NaN         NaN                NaN   \n236                    NaN         NaN    NaN         NaN                NaN   \n237                    NaN         NaN    NaN         NaN                NaN   \n\n    DESCARTADOS             CONFIRMADOS Unnamed: 7  LABORATÓRIO PÚBLICO  \\\n0       422.084                  223489        NaN  LABORATÓRIO PRIVADO   \n1           NaN                     NaN        NaN     BOLETIM ANTERIOR   \n2           NaN                     NaN        NaN                TOTAL   \n3    QUANTIDADE                     NaN        NaN                  NaN   \n4        10.913  Isolamento Domiciliar       9.646                  NaN   \n..          ...                     ...        ...                  ...   \n233         NaN                     NaN        NaN                  NaN   \n234         NaN                     NaN        NaN                  NaN   \n235         NaN                     NaN        NaN                  NaN   \n236         NaN                     NaN        NaN                  NaN   \n237         NaN                     NaN        NaN                  NaN   \n\n         634  \n0         46  \n1    546.691  \n2    547.371  \n3        NaN  \n4        NaN  \n..       ...  \n233      NaN  \n234      NaN  \n235      NaN  \n236      NaN  \n237      NaN  \n\n[238 rows x 10 columns]",
      "text/html": "<div>\n<style scoped>\n    .dataframe tbody tr th:only-of-type {\n        vertical-align: middle;\n    }\n\n    .dataframe tbody tr th {\n        vertical-align: top;\n    }\n\n    .dataframe thead th {\n        text-align: right;\n    }\n</style>\n<table border=\"1\" class=\"dataframe\">\n  <thead>\n    <tr style=\"text-align: right;\">\n      <th></th>\n      <th>MUNICÍPIOS</th>\n      <th>CONFIRMADO</th>\n      <th>ÓBITO</th>\n      <th>Unnamed: 3</th>\n      <th>SUSPEITOS</th>\n      <th>DESCARTADOS</th>\n      <th>CONFIRMADOS</th>\n      <th>Unnamed: 7</th>\n      <th>LABORATÓRIO PÚBLICO</th>\n      <th>634</th>\n    </tr>\n  </thead>\n  <tbody>\n    <tr>\n      <th>0</th>\n      <td>AÇAILÂNDIA</td>\n      <td>3978.0</td>\n      <td>116.0</td>\n      <td>NaN</td>\n      <td>1.475</td>\n      <td>422.084</td>\n      <td>223489</td>\n      <td>NaN</td>\n      <td>LABORATÓRIO PRIVADO</td>\n      <td>46</td>\n    </tr>\n    <tr>\n      <th>1</th>\n      <td>AFONSO CUNHA</td>\n      <td>152.0</td>\n      <td>2.0</td>\n      <td>NaN</td>\n      <td>NaN</td>\n      <td>NaN</td>\n      <td>NaN</td>\n      <td>NaN</td>\n      <td>BOLETIM ANTERIOR</td>\n      <td>546.691</td>\n    </tr>\n    <tr>\n      <th>2</th>\n      <td>ÁGUA DOCE DO MARANHÃO</td>\n      <td>662.0</td>\n      <td>7.0</td>\n      <td>NaN</td>\n      <td>CASOS CONFIRMADOS</td>\n      <td>NaN</td>\n      <td>NaN</td>\n      <td>NaN</td>\n      <td>TOTAL</td>\n      <td>547.371</td>\n    </tr>\n    <tr>\n      <th>3</th>\n      <td>ALCÂNTARA</td>\n      <td>202.0</td>\n      <td>8.0</td>\n      <td>NaN</td>\n      <td>STATUS</td>\n      <td>QUANTIDADE</td>\n      <td>NaN</td>\n      <td>NaN</td>\n      <td>NaN</td>\n      <td>NaN</td>\n    </tr>\n    <tr>\n      <th>4</th>\n      <td>ALDEIAS ALTAS</td>\n      <td>973.0</td>\n      <td>11.0</td>\n      <td>NaN</td>\n      <td>Ativos</td>\n      <td>10.913</td>\n      <td>Isolamento Domiciliar</td>\n      <td>9.646</td>\n      <td>NaN</td>\n      <td>NaN</td>\n    </tr>\n    <tr>\n      <th>...</th>\n      <td>...</td>\n      <td>...</td>\n      <td>...</td>\n      <td>...</td>\n      <td>...</td>\n      <td>...</td>\n      <td>...</td>\n      <td>...</td>\n      <td>...</td>\n      <td>...</td>\n    </tr>\n    <tr>\n      <th>233</th>\n      <td>NaN</td>\n      <td>NaN</td>\n      <td>NaN</td>\n      <td>NaN</td>\n      <td>NaN</td>\n      <td>NaN</td>\n      <td>NaN</td>\n      <td>NaN</td>\n      <td>NaN</td>\n      <td>NaN</td>\n    </tr>\n    <tr>\n      <th>234</th>\n      <td>NaN</td>\n      <td>NaN</td>\n      <td>NaN</td>\n      <td>NaN</td>\n      <td>NaN</td>\n      <td>NaN</td>\n      <td>NaN</td>\n      <td>NaN</td>\n      <td>NaN</td>\n      <td>NaN</td>\n    </tr>\n    <tr>\n      <th>235</th>\n      <td>NaN</td>\n      <td>NaN</td>\n      <td>NaN</td>\n      <td>NaN</td>\n      <td>NaN</td>\n      <td>NaN</td>\n      <td>NaN</td>\n      <td>NaN</td>\n      <td>NaN</td>\n      <td>NaN</td>\n    </tr>\n    <tr>\n      <th>236</th>\n      <td>NaN</td>\n      <td>NaN</td>\n      <td>NaN</td>\n      <td>NaN</td>\n      <td>NaN</td>\n      <td>NaN</td>\n      <td>NaN</td>\n      <td>NaN</td>\n      <td>NaN</td>\n      <td>NaN</td>\n    </tr>\n    <tr>\n      <th>237</th>\n      <td>NaN</td>\n      <td>NaN</td>\n      <td>NaN</td>\n      <td>NaN</td>\n      <td>NaN</td>\n      <td>NaN</td>\n      <td>NaN</td>\n      <td>NaN</td>\n      <td>NaN</td>\n      <td>NaN</td>\n    </tr>\n  </tbody>\n</table>\n<p>238 rows × 10 columns</p>\n</div>"
     },
     "metadata": {}
    },
    {
     "output_type": "stream",
     "name": "stderr",
     "text": [
      "<ipython-input-28-4e9ecf9cddbf>:21: FutureWarning: The default value of regex will change from True to False in a future version.\n  dados[\"confirmados\"] = dados[\"confirmados\"].astype(str).str.replace(r'\\.[0]', '')\n<ipython-input-28-4e9ecf9cddbf>:22: FutureWarning: The default value of regex will change from True to False in a future version.\n  dados[\"mortes\"] = dados[\"mortes\"].astype(str).str.replace(r'\\.[0]', '')\n"
     ]
    },
    {
     "output_type": "display_data",
     "data": {
      "text/plain": "                MUNICÍPIOS  CONFIRMADO  ÓBITO  Unnamed: 3          SUSPEITOS  \\\n0               AÇAILÂNDIA      4385.0  153.0         NaN              2.141   \n1             AFONSO CUNHA       155.0    2.0         NaN                NaN   \n2    ÁGUA DOCE DO MARANHÃO       672.0    7.0         NaN  CASOS CONFIRMADOS   \n3                ALCÂNTARA       208.0   11.0         NaN             STATUS   \n4            ALDEIAS ALTAS       974.0   12.0         NaN             Ativos   \n..                     ...         ...    ...         ...                ...   \n233                    NaN         NaN    NaN         NaN                NaN   \n234                    NaN         NaN    NaN         NaN                NaN   \n235                    NaN         NaN    NaN         NaN                NaN   \n236                    NaN         NaN    NaN         NaN                NaN   \n237                    NaN         NaN    NaN         NaN                NaN   \n\n    DESCARTADOS             CONFIRMADOS Unnamed: 7  LABORATÓRIO PÚBLICO  \\\n0       452.693                  246665        NaN  LABORATÓRIO PRIVADO   \n1           NaN                     NaN        NaN     BOLETIM ANTERIOR   \n2           NaN                     NaN        NaN                TOTAL   \n3    QUANTIDADE                     NaN        NaN                  NaN   \n4        16.533  Isolamento Domiciliar      15.022                  NaN   \n..          ...                     ...        ...                  ...   \n233         NaN                     NaN        NaN                  NaN   \n234         NaN                     NaN        NaN                  NaN   \n235         NaN                     NaN        NaN                  NaN   \n236         NaN                     NaN        NaN                  NaN   \n237         NaN                     NaN        NaN                  NaN   \n\n       2.043  \n0        148  \n1    595.953  \n2    598.144  \n3        NaN  \n4        NaN  \n..       ...  \n233      NaN  \n234      NaN  \n235      NaN  \n236      NaN  \n237      NaN  \n\n[238 rows x 10 columns]",
      "text/html": "<div>\n<style scoped>\n    .dataframe tbody tr th:only-of-type {\n        vertical-align: middle;\n    }\n\n    .dataframe tbody tr th {\n        vertical-align: top;\n    }\n\n    .dataframe thead th {\n        text-align: right;\n    }\n</style>\n<table border=\"1\" class=\"dataframe\">\n  <thead>\n    <tr style=\"text-align: right;\">\n      <th></th>\n      <th>MUNICÍPIOS</th>\n      <th>CONFIRMADO</th>\n      <th>ÓBITO</th>\n      <th>Unnamed: 3</th>\n      <th>SUSPEITOS</th>\n      <th>DESCARTADOS</th>\n      <th>CONFIRMADOS</th>\n      <th>Unnamed: 7</th>\n      <th>LABORATÓRIO PÚBLICO</th>\n      <th>2.043</th>\n    </tr>\n  </thead>\n  <tbody>\n    <tr>\n      <th>0</th>\n      <td>AÇAILÂNDIA</td>\n      <td>4385.0</td>\n      <td>153.0</td>\n      <td>NaN</td>\n      <td>2.141</td>\n      <td>452.693</td>\n      <td>246665</td>\n      <td>NaN</td>\n      <td>LABORATÓRIO PRIVADO</td>\n      <td>148</td>\n    </tr>\n    <tr>\n      <th>1</th>\n      <td>AFONSO CUNHA</td>\n      <td>155.0</td>\n      <td>2.0</td>\n      <td>NaN</td>\n      <td>NaN</td>\n      <td>NaN</td>\n      <td>NaN</td>\n      <td>NaN</td>\n      <td>BOLETIM ANTERIOR</td>\n      <td>595.953</td>\n    </tr>\n    <tr>\n      <th>2</th>\n      <td>ÁGUA DOCE DO MARANHÃO</td>\n      <td>672.0</td>\n      <td>7.0</td>\n      <td>NaN</td>\n      <td>CASOS CONFIRMADOS</td>\n      <td>NaN</td>\n      <td>NaN</td>\n      <td>NaN</td>\n      <td>TOTAL</td>\n      <td>598.144</td>\n    </tr>\n    <tr>\n      <th>3</th>\n      <td>ALCÂNTARA</td>\n      <td>208.0</td>\n      <td>11.0</td>\n      <td>NaN</td>\n      <td>STATUS</td>\n      <td>QUANTIDADE</td>\n      <td>NaN</td>\n      <td>NaN</td>\n      <td>NaN</td>\n      <td>NaN</td>\n    </tr>\n    <tr>\n      <th>4</th>\n      <td>ALDEIAS ALTAS</td>\n      <td>974.0</td>\n      <td>12.0</td>\n      <td>NaN</td>\n      <td>Ativos</td>\n      <td>16.533</td>\n      <td>Isolamento Domiciliar</td>\n      <td>15.022</td>\n      <td>NaN</td>\n      <td>NaN</td>\n    </tr>\n    <tr>\n      <th>...</th>\n      <td>...</td>\n      <td>...</td>\n      <td>...</td>\n      <td>...</td>\n      <td>...</td>\n      <td>...</td>\n      <td>...</td>\n      <td>...</td>\n      <td>...</td>\n      <td>...</td>\n    </tr>\n    <tr>\n      <th>233</th>\n      <td>NaN</td>\n      <td>NaN</td>\n      <td>NaN</td>\n      <td>NaN</td>\n      <td>NaN</td>\n      <td>NaN</td>\n      <td>NaN</td>\n      <td>NaN</td>\n      <td>NaN</td>\n      <td>NaN</td>\n    </tr>\n    <tr>\n      <th>234</th>\n      <td>NaN</td>\n      <td>NaN</td>\n      <td>NaN</td>\n      <td>NaN</td>\n      <td>NaN</td>\n      <td>NaN</td>\n      <td>NaN</td>\n      <td>NaN</td>\n      <td>NaN</td>\n      <td>NaN</td>\n    </tr>\n    <tr>\n      <th>235</th>\n      <td>NaN</td>\n      <td>NaN</td>\n      <td>NaN</td>\n      <td>NaN</td>\n      <td>NaN</td>\n      <td>NaN</td>\n      <td>NaN</td>\n      <td>NaN</td>\n      <td>NaN</td>\n      <td>NaN</td>\n    </tr>\n    <tr>\n      <th>236</th>\n      <td>NaN</td>\n      <td>NaN</td>\n      <td>NaN</td>\n      <td>NaN</td>\n      <td>NaN</td>\n      <td>NaN</td>\n      <td>NaN</td>\n      <td>NaN</td>\n      <td>NaN</td>\n      <td>NaN</td>\n    </tr>\n    <tr>\n      <th>237</th>\n      <td>NaN</td>\n      <td>NaN</td>\n      <td>NaN</td>\n      <td>NaN</td>\n      <td>NaN</td>\n      <td>NaN</td>\n      <td>NaN</td>\n      <td>NaN</td>\n      <td>NaN</td>\n      <td>NaN</td>\n    </tr>\n  </tbody>\n</table>\n<p>238 rows × 10 columns</p>\n</div>"
     },
     "metadata": {}
    },
    {
     "output_type": "stream",
     "name": "stderr",
     "text": [
      "<ipython-input-28-4e9ecf9cddbf>:21: FutureWarning: The default value of regex will change from True to False in a future version.\n  dados[\"confirmados\"] = dados[\"confirmados\"].astype(str).str.replace(r'\\.[0]', '')\n<ipython-input-28-4e9ecf9cddbf>:22: FutureWarning: The default value of regex will change from True to False in a future version.\n  dados[\"mortes\"] = dados[\"mortes\"].astype(str).str.replace(r'\\.[0]', '')\n"
     ]
    },
    {
     "output_type": "display_data",
     "data": {
      "text/plain": "                MUNICÍPIOS  CONFIRMADO  ÓBITO  Unnamed: 3          SUSPEITOS  \\\n0               AÇAILÂNDIA      4841.0  172.0         NaN              3.989   \n1             AFONSO CUNHA       158.0    2.0         NaN                NaN   \n2    ÁGUA DOCE DO MARANHÃO       673.0    8.0         NaN  CASOS CONFIRMADOS   \n3                ALCÂNTARA       263.0   14.0         NaN             STATUS   \n4            ALDEIAS ALTAS       975.0   13.0         NaN             Ativos   \n..                     ...         ...    ...         ...                ...   \n233                    NaN         NaN    NaN         NaN                NaN   \n234                    NaN         NaN    NaN         NaN                NaN   \n235                    NaN         NaN    NaN         NaN                NaN   \n236                    NaN         NaN    NaN         NaN                NaN   \n237                    NaN         NaN    NaN         NaN                NaN   \n\n    DESCARTADOS             CONFIRMADOS Unnamed: 7  LABORATÓRIO PÚBLICO  \\\n0       485.122                  274799        NaN  LABORATÓRIO PRIVADO   \n1           NaN                     NaN        NaN     BOLETIM ANTERIOR   \n2           NaN                     NaN        NaN                TOTAL   \n3    QUANTIDADE                     NaN        NaN                  NaN   \n4        21.785  Isolamento Domiciliar      20.648                  NaN   \n..          ...                     ...        ...                  ...   \n233         NaN                     NaN        NaN                  NaN   \n234         NaN                     NaN        NaN                  NaN   \n235         NaN                     NaN        NaN                  NaN   \n236         NaN                     NaN        NaN                  NaN   \n237         NaN                     NaN        NaN                  NaN   \n\n       2.396  \n0        114  \n1    656.747  \n2    659.257  \n3        NaN  \n4        NaN  \n..       ...  \n233      NaN  \n234      NaN  \n235      NaN  \n236      NaN  \n237      NaN  \n\n[238 rows x 10 columns]",
      "text/html": "<div>\n<style scoped>\n    .dataframe tbody tr th:only-of-type {\n        vertical-align: middle;\n    }\n\n    .dataframe tbody tr th {\n        vertical-align: top;\n    }\n\n    .dataframe thead th {\n        text-align: right;\n    }\n</style>\n<table border=\"1\" class=\"dataframe\">\n  <thead>\n    <tr style=\"text-align: right;\">\n      <th></th>\n      <th>MUNICÍPIOS</th>\n      <th>CONFIRMADO</th>\n      <th>ÓBITO</th>\n      <th>Unnamed: 3</th>\n      <th>SUSPEITOS</th>\n      <th>DESCARTADOS</th>\n      <th>CONFIRMADOS</th>\n      <th>Unnamed: 7</th>\n      <th>LABORATÓRIO PÚBLICO</th>\n      <th>2.396</th>\n    </tr>\n  </thead>\n  <tbody>\n    <tr>\n      <th>0</th>\n      <td>AÇAILÂNDIA</td>\n      <td>4841.0</td>\n      <td>172.0</td>\n      <td>NaN</td>\n      <td>3.989</td>\n      <td>485.122</td>\n      <td>274799</td>\n      <td>NaN</td>\n      <td>LABORATÓRIO PRIVADO</td>\n      <td>114</td>\n    </tr>\n    <tr>\n      <th>1</th>\n      <td>AFONSO CUNHA</td>\n      <td>158.0</td>\n      <td>2.0</td>\n      <td>NaN</td>\n      <td>NaN</td>\n      <td>NaN</td>\n      <td>NaN</td>\n      <td>NaN</td>\n      <td>BOLETIM ANTERIOR</td>\n      <td>656.747</td>\n    </tr>\n    <tr>\n      <th>2</th>\n      <td>ÁGUA DOCE DO MARANHÃO</td>\n      <td>673.0</td>\n      <td>8.0</td>\n      <td>NaN</td>\n      <td>CASOS CONFIRMADOS</td>\n      <td>NaN</td>\n      <td>NaN</td>\n      <td>NaN</td>\n      <td>TOTAL</td>\n      <td>659.257</td>\n    </tr>\n    <tr>\n      <th>3</th>\n      <td>ALCÂNTARA</td>\n      <td>263.0</td>\n      <td>14.0</td>\n      <td>NaN</td>\n      <td>STATUS</td>\n      <td>QUANTIDADE</td>\n      <td>NaN</td>\n      <td>NaN</td>\n      <td>NaN</td>\n      <td>NaN</td>\n    </tr>\n    <tr>\n      <th>4</th>\n      <td>ALDEIAS ALTAS</td>\n      <td>975.0</td>\n      <td>13.0</td>\n      <td>NaN</td>\n      <td>Ativos</td>\n      <td>21.785</td>\n      <td>Isolamento Domiciliar</td>\n      <td>20.648</td>\n      <td>NaN</td>\n      <td>NaN</td>\n    </tr>\n    <tr>\n      <th>...</th>\n      <td>...</td>\n      <td>...</td>\n      <td>...</td>\n      <td>...</td>\n      <td>...</td>\n      <td>...</td>\n      <td>...</td>\n      <td>...</td>\n      <td>...</td>\n      <td>...</td>\n    </tr>\n    <tr>\n      <th>233</th>\n      <td>NaN</td>\n      <td>NaN</td>\n      <td>NaN</td>\n      <td>NaN</td>\n      <td>NaN</td>\n      <td>NaN</td>\n      <td>NaN</td>\n      <td>NaN</td>\n      <td>NaN</td>\n      <td>NaN</td>\n    </tr>\n    <tr>\n      <th>234</th>\n      <td>NaN</td>\n      <td>NaN</td>\n      <td>NaN</td>\n      <td>NaN</td>\n      <td>NaN</td>\n      <td>NaN</td>\n      <td>NaN</td>\n      <td>NaN</td>\n      <td>NaN</td>\n      <td>NaN</td>\n    </tr>\n    <tr>\n      <th>235</th>\n      <td>NaN</td>\n      <td>NaN</td>\n      <td>NaN</td>\n      <td>NaN</td>\n      <td>NaN</td>\n      <td>NaN</td>\n      <td>NaN</td>\n      <td>NaN</td>\n      <td>NaN</td>\n      <td>NaN</td>\n    </tr>\n    <tr>\n      <th>236</th>\n      <td>NaN</td>\n      <td>NaN</td>\n      <td>NaN</td>\n      <td>NaN</td>\n      <td>NaN</td>\n      <td>NaN</td>\n      <td>NaN</td>\n      <td>NaN</td>\n      <td>NaN</td>\n      <td>NaN</td>\n    </tr>\n    <tr>\n      <th>237</th>\n      <td>NaN</td>\n      <td>NaN</td>\n      <td>NaN</td>\n      <td>NaN</td>\n      <td>NaN</td>\n      <td>NaN</td>\n      <td>NaN</td>\n      <td>NaN</td>\n      <td>NaN</td>\n      <td>NaN</td>\n    </tr>\n  </tbody>\n</table>\n<p>238 rows × 10 columns</p>\n</div>"
     },
     "metadata": {}
    },
    {
     "output_type": "stream",
     "name": "stderr",
     "text": [
      "<ipython-input-28-4e9ecf9cddbf>:21: FutureWarning: The default value of regex will change from True to False in a future version.\n  dados[\"confirmados\"] = dados[\"confirmados\"].astype(str).str.replace(r'\\.[0]', '')\n<ipython-input-28-4e9ecf9cddbf>:22: FutureWarning: The default value of regex will change from True to False in a future version.\n  dados[\"mortes\"] = dados[\"mortes\"].astype(str).str.replace(r'\\.[0]', '')\n"
     ]
    }
   ],
   "source": [
    "dates = ['0703', '0704', '1105']\n",
    "for date in dates:\n",
    "        csv_url = f'http://www.saude.ma.gov.br/wp-content/uploads/2021/{date[2:]}/Dados-Gerais-{date}.csv'\n",
    "\n",
    "        dados = pd.read_csv(csv_url, encoding='latin_1', sep=';', header=2, thousands='.')\n",
    "        dados.rename(columns=lambda x: unidecode.unidecode(x).strip().replace(\" \", \"_\").lower(), inplace=True)\n",
    "        dados = dados[['municipios', 'confirmado', 'obito']]\n",
    "        dados.dropna(how='all', inplace=True)\n",
    "        dados.rename(columns={'municipios': 'municipio', 'confirmado': 'confirmados', 'obito': 'mortes'}, inplace=True)\n",
    "        dados[\"municipio\"] = dados[\"municipio\"].str.title()\n",
    "\n",
    "        df = dados.copy()\n",
    "\n",
    "        dados = new_row(dados, 'Importados/Indefinidos', '', '')\n",
    "        dados = new_row(dados, 'TOTAL NO ESTADO', [df.confirmados.sum()], [df.mortes.sum()])\n",
    "        \n",
    "        dados.drop(dados.tail(1).index,inplace = True)\n",
    "\n",
    "        # Removing .0 from table values\n",
    "        dados[\"confirmados\"] = dados[\"confirmados\"].astype(str).str.replace(r'\\.[0]', '')\n",
    "        dados[\"mortes\"] = dados[\"mortes\"].astype(str).str.replace(r'\\.[0]', '')\n",
    "        display(dados)\n",
    "        filename = f'MA_{date}.csv' \n",
    "        dados.to_csv(filename, index=False)"
   ]
  }
 ]
}