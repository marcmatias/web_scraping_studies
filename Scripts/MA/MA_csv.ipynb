{
 "metadata": {
  "language_info": {
   "codemirror_mode": {
    "name": "ipython",
    "version": 3
   },
   "file_extension": ".py",
   "mimetype": "text/x-python",
   "name": "python",
   "nbconvert_exporter": "python",
   "pygments_lexer": "ipython3",
   "version": ""
  },
  "orig_nbformat": 2,
  "kernelspec": {
   "name": "pythonjvsc74a57bd053ebe5db2ae2fee0f28ed402d256b6879bfb7dc9c8b690a7b1d5bd31d6f68a16",
   "display_name": "Python"
  },
  "metadata": {
   "interpreter": {
    "hash": "53ebe5db2ae2fee0f28ed402d256b6879bfb7dc9c8b690a7b1d5bd31d6f68a16"
   }
  }
 },
 "nbformat": 4,
 "nbformat_minor": 2,
 "cells": [
  {
   "cell_type": "code",
   "execution_count": 1,
   "metadata": {},
   "outputs": [],
   "source": [
    "import re\n",
    "import pdfplumber\n",
    "\n",
    "import requests\n",
    "from io import BytesIO\n",
    "\n",
    "from urllib.request import urlopen\n",
    "\n",
    "import json\n",
    "import csv"
   ]
  },
  {
   "cell_type": "code",
   "execution_count": 2,
   "metadata": {},
   "outputs": [],
   "source": [
    "def total_values_pdf(date):\n",
    "    # Request and Open PDF file\n",
    "    try:\n",
    "        rq = requests.get(f\"https://www.saude.ma.gov.br/wp-content/uploads/2021/{date[2:]}/BOLETIM-{date[:2]}-{date[2:]}.pdf\")\n",
    "        pdf_data = pdfplumber.open(BytesIO(rq.content))\n",
    "    except Exception as e:\n",
    "        print(e)\n",
    "\n",
    "    # Extracting date\n",
    "    total_confirmed = re.search(r'\\d{6}',pdf_data.pages[0].extract_text()).group(0)\n",
    "    total_death = re.search(r'\\b\\d{4}\\b(?!\\n)',pdf_data.pages[0].extract_text()).group(0)\n",
    "    return [total_confirmed, total_death]"
   ]
  },
  {
   "cell_type": "code",
   "execution_count": 3,
   "metadata": {
    "tags": []
   },
   "outputs": [
    {
     "output_type": "stream",
     "name": "stdout",
     "text": [
      "Success! MA_2021_05_11.csv\n",
      "Success! MA_2021_03_07.csv\n",
      "Success! MA_2021_04_07.csv\n",
      "Script ended\n"
     ]
    }
   ],
   "source": [
    "# Dates to generate csv and check with pdf\n",
    "# Get csv and pdf from http\n",
    "dates = ['1105', '0703', '0704']\n",
    "for date in dates:\n",
    "        # Getting total values from pdf \n",
    "        total_confirmed, total_death = total_values_pdf(date)\n",
    "\n",
    "        csv_url = f'http://www.saude.ma.gov.br/wp-content/uploads/2021/{date[2:]}/Dados-Gerais-{date}.csv'\n",
    "        \n",
    "        # Getting csv from url\n",
    "        text = requests.get(csv_url).iter_lines()\n",
    "        # Reading the csv, decoding and delimiting rows\n",
    "        reader = csv.reader([item.decode(\"latin-1\") for item in text], delimiter=';')\n",
    "        data = [item for item in reader]\n",
    "        headers = data[2][:3]\n",
    "        values = [item[:3] for item in data[3:]]\n",
    "        result = []\n",
    "        [result.append(dict(zip(headers, values))) for values in values]\n",
    "\n",
    "        output_filename = f\"MA_2021_{date[2:]}_{date[:2]}.csv\"\n",
    "        with open(output_filename, mode=\"w\", encoding=\"utf-8\", newline=\"\") as fobj:\n",
    "                writer = csv.DictWriter(fobj, fieldnames=[\"municipio\", \"confirmados\", \"mortes\"])\n",
    "                writer.writeheader()\n",
    "\n",
    "                confirmed = 0\n",
    "                death = 0\n",
    "                rows_list = []\n",
    "                for row in result:\n",
    "                        len_mun = len(row[\"MUNICÍPIOS\"])\n",
    "                        if len_mun != 0 and len_mun < 30:\n",
    "                                confirmed += int(row[\"CONFIRMADO\"])\n",
    "                                death += int(row[\"ÓBITO\"])\n",
    "                                if row[\"MUNICÍPIOS\"].title() == \"Peri-Mirim\":\n",
    "                                        row[\"MUNICÍPIOS\"] = \"Peri Mirim\"\n",
    "                                elif row[\"MUNICÍPIOS\"].title() == \"Itapecuru-Mirim\":\n",
    "                                        row[\"MUNICÍPIOS\"] = \"Itapecuru Mirim\"\n",
    "                                elif row[\"MUNICÍPIOS\"].title() == \"São João Do Sóter\":\n",
    "                                        row[\"MUNICÍPIOS\"] = \"São João do Soter\"\n",
    "                                rows_list.append(\n",
    "                                        {\n",
    "                                                \"municipio\": row[\"MUNICÍPIOS\"].title(),\n",
    "                                                \"confirmados\": row[\"CONFIRMADO\"],\n",
    "                                                \"mortes\": row[\"ÓBITO\"],\n",
    "                                        }\n",
    "                                )\n",
    "                if confirmed == int(total_confirmed) and death == int(total_death):\n",
    "                        confirmed_final = confirmed\n",
    "                        death_final = death\n",
    "                        print(\"Success!\", output_filename)\n",
    "                else:\n",
    "                        confirmed_final =  \"\"\n",
    "                        death_final =  \"\"\n",
    "                        print(\n",
    "                                \"Failed!\", output_filename,\n",
    "                                \"Confirmados:\", confirmed,\n",
    "                                \"Confirmados_pdf:\", total_confirmed,\n",
    "                                \"Mortes:\", death,\n",
    "                                \"Mortes_pdf:\", total_death,\n",
    "                        )\n",
    "                writer.writerow(\n",
    "                        {\n",
    "                                \"municipio\": \"TOTAL NO ESTADO\",\n",
    "                                \"confirmados\": confirmed_final,\n",
    "                                \"mortes\": death_final,\n",
    "                        }\n",
    "                )\n",
    "                writer.writerow(\n",
    "                        {\n",
    "                                \"municipio\": \"Importados/Indefinidos\",\n",
    "                                \"confirmados\": \"\",\n",
    "                                \"mortes\": \"\",\n",
    "                        }\n",
    "                )\n",
    "                writer.writerows(rows_list)\n",
    "\n",
    "print(\"Script ended\")"
   ]
  }
 ]
}