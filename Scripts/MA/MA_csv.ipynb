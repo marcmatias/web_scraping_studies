{
 "metadata": {
  "language_info": {
   "codemirror_mode": {
    "name": "ipython",
    "version": 3
   },
   "file_extension": ".py",
   "mimetype": "text/x-python",
   "name": "python",
   "nbconvert_exporter": "python",
   "pygments_lexer": "ipython3",
   "version": "3.8.8"
  },
  "orig_nbformat": 2,
  "kernelspec": {
   "name": "python388jvsc74a57bd09ebd6828ea59e2beeb7124697658ae9b6022b4594ded89576638a0382040f87e",
   "display_name": "Python 3.8.8 64-bit"
  },
  "metadata": {
   "interpreter": {
    "hash": "63fd5069d213b44bf678585dea6b12cceca9941eaf7f819626cde1f2670de90d"
   }
  }
 },
 "nbformat": 4,
 "nbformat_minor": 2,
 "cells": [
  {
   "cell_type": "code",
   "execution_count": 1,
   "metadata": {},
   "outputs": [],
   "source": [
    "import pandas as pd\n",
    "import unidecode\n",
    "\n",
    "import re\n",
    "import pdfplumber\n",
    "\n",
    "import requests\n",
    "from io import BytesIO"
   ]
  },
  {
   "cell_type": "code",
   "execution_count": 2,
   "metadata": {},
   "outputs": [],
   "source": [
    "def total_values_pdf(date):\n",
    "    # Request and Open PDF file\n",
    "    try:\n",
    "        rq = requests.get(f\"https://www.saude.ma.gov.br/wp-content/uploads/2021/{date[2:]}/BOLETIM-{date[:2]}-{date[2:]}.pdf\")\n",
    "        pdf_data = pdfplumber.open(BytesIO(rq.content))\n",
    "    except Exception as e:\n",
    "        print(e)\n",
    "\n",
    "    # Extracting date\n",
    "    total_confirmed = re.search(r'\\d{6}',pdf_data.pages[0].extract_text()).group(0)\n",
    "    total_death = re.search(r'\\b\\d{4}\\b(?!\\n)',pdf_data.pages[0].extract_text()).group(0)\n",
    "    return [total_confirmed, total_death]"
   ]
  },
  {
   "cell_type": "code",
   "execution_count": 3,
   "metadata": {},
   "outputs": [],
   "source": [
    "def new_row(dados, municipio, confirmados, mortes):\n",
    "    dict_add_rows = {'municipio':[municipio,]\n",
    "                    , 'confirmados': confirmados\n",
    "                    , 'mortes': mortes}\n",
    "    return pd.concat([pd.DataFrame(dict_add_rows), dados]).reset_index(drop=True)"
   ]
  },
  {
   "cell_type": "code",
   "execution_count": 6,
   "metadata": {
    "tags": []
   },
   "outputs": [
    {
     "output_type": "stream",
     "name": "stdout",
     "text": [
      "MA_2021_03_07.csv Success!\n",
      "MA_2021_04_07.csv Success!\n",
      "MA_2021_05_11.csv Success!\n",
      "Script ended\n"
     ]
    }
   ],
   "source": [
    "dates = ['0703', '0704', '1105']\n",
    "for date in dates:\n",
    "        # Getting total values from pdf \n",
    "        total_confirmed, total_death = total_values_pdf(date)\n",
    "\n",
    "        csv_url = f'http://www.saude.ma.gov.br/wp-content/uploads/2021/{date[2:]}/Dados-Gerais-{date}.csv'\n",
    "\n",
    "        dados = pd.read_csv(csv_url, encoding='latin_1', sep=';', header=2, thousands='.')\n",
    "        dados.rename(columns=lambda x: unidecode.unidecode(x).strip().replace(\" \", \"_\").lower(), inplace=True)\n",
    "        dados = dados[['municipios', 'confirmado', 'obito']]\n",
    "        dados.dropna(how='all', inplace=True)\n",
    "        dados.rename(columns={'municipios': 'municipio', 'confirmado': 'confirmados', 'obito': 'mortes'}, inplace=True)\n",
    "        dados[\"municipio\"] = dados[\"municipio\"].str.title()\n",
    "\n",
    "        df = dados.copy()\n",
    "\n",
    "        dados = new_row(dados, 'Importados/Indefinidos', '', '')\n",
    "        dados = new_row(dados, 'TOTAL NO ESTADO', [df.confirmados.sum()], [df.mortes.sum()])\n",
    "        \n",
    "        # Remove aditional text from the end of the table\n",
    "        if len(dados) > 219:\n",
    "                dados.drop(dados.tail(1).index,inplace = True)\n",
    "\n",
    "        # Removing .0 from table values\n",
    "        dados[\"confirmados\"] = dados[\"confirmados\"].astype(str).str.replace(r'\\.[0]', '', regex=True)\n",
    "        dados[\"mortes\"] = dados[\"mortes\"].astype(str).str.replace(r'\\.[0]', '', regex=True)\n",
    "\n",
    "        if dados.at[0, \"confirmados\"] == total_confirmed and dados.at[0, \"mortes\"] == total_death:\n",
    "                filename = f'MA_2021_{date[2:]}_{date[:2]}.csv' \n",
    "                dados.to_csv(filename, index=False)\n",
    "                print(filename, \"Success!\")\n",
    "        else:\n",
    "                print(filename, \"Failed\")\n",
    "                print(\"Comparação confirmados retornou: \", dados.at[0, \"confirmados\"] == total_confirmed)\n",
    "                print(\"Comparação mortos retornou: \", dados.at[0, \"mortes\"] == total_death)\n",
    "\n",
    "        # display(dados)\n",
    "print(\"Script ended\")"
   ]
  }
 ]
}