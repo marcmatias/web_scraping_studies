{
 "cells": [
  {
   "cell_type": "code",
   "execution_count": 1,
   "metadata": {},
   "outputs": [],
   "source": [
    "import re\n",
    "import pdfplumber\n",
    "\n",
    "import requests\n",
    "from io import BytesIO\n",
    "\n",
    "from urllib.request import urlopen\n",
    "\n",
    "import json\n",
    "import csv"
   ]
  },
  {
   "cell_type": "code",
   "execution_count": 2,
   "metadata": {},
   "outputs": [],
   "source": [
    "def total_values_pdf(date):\r\n",
    "    # Request and Open PDF file\r\n",
    "    try:\r\n",
    "        rq = requests.get(f\"https://www.saude.ma.gov.br/wp-content/uploads/{date[:4]}/{date[5:7]}/BOLETIM-{date[8:]}-{date[5:7]}.pdf\")\r\n",
    "        pdf_data = pdfplumber.open(BytesIO(rq.content))\r\n",
    "    except Exception as e:\r\n",
    "        print(e)\r\n",
    "\r\n",
    "    # Extracting date\r\n",
    "    total_confirmed = re.search(r'\\d{6}',pdf_data.pages[0].extract_text()).group(0)\r\n",
    "    total_death = re.search(r'[\\d]\\n([\\d]{3,5})\\n[\\d]', pdf_data.pages[0].extract_text())[1]\r\n",
    "\r\n",
    "    return [total_confirmed, total_death]"
   ]
  },
  {
   "cell_type": "code",
   "execution_count": 3,
   "metadata": {
    "tags": []
   },
   "outputs": [
    {
     "name": "stdout",
     "output_type": "stream",
     "text": [
      "Success! MA_2021_21-04-02_20.csv\n",
      "Script ended\n"
     ]
    }
   ],
   "source": [
    "# Dates to generate csv and check with pdf\r\n",
    "# Get csv and pdf from http\r\n",
    "dates = ['2021-04-02']\r\n",
    "\r\n",
    "for date in dates:\r\n",
    "        # Getting total values from pdf \r\n",
    "        total_confirmed, total_death = total_values_pdf(date)\r\n",
    "\r\n",
    "        csv_url = f'http://www.saude.ma.gov.br/wp-content/uploads/{date[:4]}/{date[5:7]}/Dados-Gerais-{date[8:]}{date[5:7]}.csv'\r\n",
    "\r\n",
    "        # Getting csv from url\r\n",
    "        text = requests.get(csv_url).iter_lines()\r\n",
    "        # Reading the csv, decoding and delimiting rows\r\n",
    "        reader = csv.reader([item.decode(\"latin-1\") for item in text], delimiter=';')\r\n",
    "        data = [item for item in reader]\r\n",
    "        headers = data[2][:3]\r\n",
    "        values = [item[:3] for item in data[3:]]\r\n",
    "        result = []\r\n",
    "        [result.append(dict(zip(headers, values))) for values in values]\r\n",
    "\r\n",
    "        output_filename = f\"MA_2021_{date[2:]}_{date[:2]}.csv\"\r\n",
    "        with open(output_filename, mode=\"w\", encoding=\"utf-8\", newline=\"\") as fobj:\r\n",
    "                writer = csv.DictWriter(fobj, fieldnames=[\"municipio\", \"confirmados\", \"mortes\"])\r\n",
    "                writer.writeheader()\r\n",
    "\r\n",
    "                confirmed = 0\r\n",
    "                death = 0\r\n",
    "                rows_list = []\r\n",
    "                for row in result:\r\n",
    "                        len_mun = len(row)\r\n",
    "                        if len_mun != 0 and len_mun < 30:\r\n",
    "                                if row[\"MUNICÍPIOS\"] and row[\"CONFIRMADO\"] and row[\"ÓBITO\"]:\r\n",
    "                                        confirmed += int(row[\"CONFIRMADO\"])\r\n",
    "                                        death += int(row[\"ÓBITO\"])\r\n",
    "                                        if row[\"MUNICÍPIOS\"].title() == \"Peri-Mirim\":\r\n",
    "                                                row[\"MUNICÍPIOS\"] = \"Peri Mirim\"\r\n",
    "                                        elif row[\"MUNICÍPIOS\"].title() == \"Itapecuru-Mirim\":\r\n",
    "                                                row[\"MUNICÍPIOS\"] = \"Itapecuru Mirim\"\r\n",
    "                                        elif row[\"MUNICÍPIOS\"].title() == \"São João Do Sóter\":\r\n",
    "                                                row[\"MUNICÍPIOS\"] = \"São João do Soter\"\r\n",
    "                                        rows_list.append(\r\n",
    "                                                {\r\n",
    "                                                        \"municipio\": row[\"MUNICÍPIOS\"].title(),\r\n",
    "                                                        \"confirmados\": row[\"CONFIRMADO\"],\r\n",
    "                                                        \"mortes\": row[\"ÓBITO\"],\r\n",
    "                                                }\r\n",
    "                                        )\r\n",
    "                if confirmed == int(total_confirmed) and death == int(total_death):\r\n",
    "                        confirmed_final = confirmed\r\n",
    "                        death_final = death\r\n",
    "                        print(\"Success!\", output_filename)\r\n",
    "                else:\r\n",
    "                        confirmed_final =  \"\"\r\n",
    "                        death_final =  \"\"\r\n",
    "                        print(\r\n",
    "                                \"Failed!\", output_filename,\r\n",
    "                                \"Confirmados:\", confirmed,\r\n",
    "                                \"Confirmados_pdf:\", total_confirmed,\r\n",
    "                                \"Mortes:\", death,\r\n",
    "                                \"Mortes_pdf:\", total_death,\r\n",
    "                        )\r\n",
    "                writer.writerow(\r\n",
    "                        {\r\n",
    "                                \"municipio\": \"TOTAL NO ESTADO\",\r\n",
    "                                \"confirmados\": confirmed_final,\r\n",
    "                                \"mortes\": death_final,\r\n",
    "                        }\r\n",
    "                )\r\n",
    "                writer.writerow(\r\n",
    "                        {\r\n",
    "                                \"municipio\": \"Importados/Indefinidos\",\r\n",
    "                                \"confirmados\": \"\",\r\n",
    "                                \"mortes\": \"\",\r\n",
    "                        }\r\n",
    "                )\r\n",
    "                writer.writerows(rows_list)\r\n",
    "\r\n",
    "print(\"Script ended\")"
   ]
  }
 ],
 "metadata": {
  "kernelspec": {
   "display_name": "Python 3.8.8  ('webscreaping_venv': venv)",
   "name": "pythonjvsc74a57bd01c3b4f3a3e2c3e8780cfee43d81b915f3aa66dace7bef9eda32c5a7dd9110afb"
  },
  "language_info": {
   "codemirror_mode": {
    "name": "ipython",
    "version": 3
   },
   "file_extension": ".py",
   "mimetype": "text/x-python",
   "name": "python",
   "nbconvert_exporter": "python",
   "pygments_lexer": "ipython3",
   "version": "3.8.8"
  },
  "metadata": {
   "interpreter": {
    "hash": "1c3b4f3a3e2c3e8780cfee43d81b915f3aa66dace7bef9eda32c5a7dd9110afb"
   }
  },
  "orig_nbformat": 2
 },
 "nbformat": 4,
 "nbformat_minor": 2
}