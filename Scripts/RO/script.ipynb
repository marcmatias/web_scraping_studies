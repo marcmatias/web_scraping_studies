{
 "cells": [
  {
   "cell_type": "code",
   "execution_count": 20,
   "metadata": {},
   "outputs": [],
   "source": [
    "from bs4 import BeautifulSoup\r\n",
    "\r\n",
    "from urllib.request import urlopen\r\n",
    "\r\n",
    "import re\r\n",
    "\r\n",
    "import pandas as pd\r\n",
    "import datetime"
   ]
  },
  {
   "cell_type": "code",
   "execution_count": null,
   "metadata": {},
   "outputs": [],
   "source": [
    "def a_from_date(date):\r\n",
    "    try:\r\n",
    "        url = urlopen('http://www.saude.rn.gov.br/Conteudo.asp?TRAN=ITEM&TARG=240728&ACT=&PAGE=0&PARM=&LBL=ACERVO+DE+MAT%C9RIAS')\r\n",
    "    except Exception as e:\r\n",
    "        print(e)\r\n",
    "    \r\n",
    "    soup = BeautifulSoup(url.read(), \"html.parser\")\r\n",
    "    url.close()\r\n",
    "    \r\n",
    "    url_pdf_link = soup.find_all(\"div\", {\"id\": \"P000\"})[0].find_all(\"ul\")\r\n",
    "\r\n",
    "    pattern = r\"\\d{2}\\/\\d{2}\\/\\d{4}\"\r\n",
    "    for el in url_pdf_link:\r\n",
    "        for li in el.find_all(\"li\"):\r\n",
    "            try:\r\n",
    "                li_date = re.findall(pattern, str(li), re.MULTILINE)[0]\r\n",
    "                if li_date == date:\r\n",
    "                    return print(li.find_all(\"a\")[0][\"href\"])\r\n",
    "                else:\r\n",
    "                    raise FileNotFoundError('Data informada não existe na lista de pdfs.')\r\n",
    "            except IndexError:\r\n",
    "                pass"
   ]
  },
  {
   "cell_type": "code",
   "execution_count": 21,
   "metadata": {},
   "outputs": [],
   "source": [
    "def url_from_date(date):\r\n",
    "    # Reference date and number to know what's the bulletin number reference\r\n",
    "    b_num_ref = 287\r\n",
    "    f_date = datetime.date(2021, 1, 1)\r\n",
    "    l_date = datetime.date(date[0], date[1], date[2])\r\n",
    "    b_num = (l_date - f_date).days\r\n",
    "    url = f'http://www.rondonia.ro.gov.br/edicao-{b_num + b_num_ref}-boletim-diario-sobre-coronavirus-em-rondonia/'\r\n",
    "    return url\r\n"
   ]
  },
  {
   "cell_type": "code",
   "execution_count": 22,
   "metadata": {},
   "outputs": [],
   "source": [
    "def add_new_row(data_frame, name_row, t_confirmado, t_obito):\r\n",
    "    data_frame.loc[-1] = [name_row, t_confirmado, t_obito]  # adding a row\r\n",
    "    data_frame.index = data_frame.index + 1  # shifting index\r\n",
    "    return data_frame.sort_index()  # sorting by index"
   ]
  },
  {
   "cell_type": "code",
   "execution_count": 23,
   "metadata": {},
   "outputs": [
    {
     "name": "stdout",
     "output_type": "stream",
     "text": [
      "2021-05-27 Success!!\n"
     ]
    }
   ],
   "source": [
    "dates = [\"2021-04-24\"]\r\n",
    "\r\n",
    "for date in dates:\r\n",
    "\r\n",
    "    url = url_from_date([int(date) for date in date.split(\"-\")])\r\n",
    "\r\n",
    "    dfs = pd.read_html(url)\r\n",
    "    table = dfs[0]\r\n",
    "\r\n",
    "    # Remove two first unecessary lines\r\n",
    "    table = table.drop([0, 1]).reset_index(drop=True)\r\n",
    "\r\n",
    "    # Rename columns and remove unecessary columns\r\n",
    "    if(table.at[1, 3].lower().startswith('óbitos')):\r\n",
    "        table = table[[0, 1, 3]].rename(\r\n",
    "                columns={0: \"municipio\", 1: \"confirmados\", 3: \"mortes\"})\r\n",
    "    else:\r\n",
    "        table = table[[0, 1, 2]].rename(\r\n",
    "            columns={0: \"municipio\", 1: \"confirmados\", 2: \"mortes\"})\r\n",
    "\r\n",
    "    # Total values from last row\r\n",
    "    last_row_df = table.iloc[-1].name\r\n",
    "    total_conf_table = int(table.at[last_row_df, \"confirmados\"].replace(\".\", \"\"))\r\n",
    "    total_deaths_table = int(table.at[last_row_df, \"mortes\"].replace(\".\", \"\"))\r\n",
    "    \r\n",
    "    # Remove unecessary 1 last lines\r\n",
    "    table.drop(table.tail(1).index, inplace=True)\r\n",
    "\r\n",
    "    # Create new column with no accents\r\n",
    "    table[\"new\"] = table[\"municipio\"].str.normalize('NFKD')\\\r\n",
    "        .str.encode('ascii', errors='ignore')\\\r\n",
    "        .str.decode('utf-8')\r\n",
    "\r\n",
    "    # Sort by new column with no accents, then drop\r\n",
    "    table = table.sort_values(\"new\", ascending=True)\\\r\n",
    "        .drop(\"new\", axis=1).reset_index(drop=True)\r\n",
    "\r\n",
    "    # Removing dots and replacing symbols with brasil.io patterns\r\n",
    "    for i in range(len(table[\"confirmados\"])):\r\n",
    "        table.at[i, \"confirmados\"] = table.at[i,\r\n",
    "                                              \"confirmados\"].replace(\".\", \"\")\r\n",
    "        table.at[i, \"mortes\"] = table.at[i, \"mortes\"].replace(\".\", \"\")\r\n",
    "        table.at[i, \"municipio\"] = table.at[i, \"municipio\"].replace(\"’\", \"\\'\")\r\n",
    "\r\n",
    "    # Sum total numbers\r\n",
    "    total_conf = table[\"confirmados\"].astype(int).sum()\r\n",
    "    total_deaths = table[\"mortes\"].astype(int).sum()\r\n",
    "\r\n",
    "    # Adding new row to data_frame with total numbers\r\n",
    "    table = add_new_row(table, \"Importados/Indefinidos\", 0, 0)\r\n",
    "    table = add_new_row(table, \"TOTAL NO ESTADO\",\r\n",
    "                        total_conf, total_deaths)\r\n",
    "\r\n",
    "    if total_conf_table == total_conf and total_deaths == total_deaths_table:\r\n",
    "        print(date, \"Success!!\")\r\n",
    "    else:\r\n",
    "        print(date, \"Resultados diferentes \", \"Confirmados: \", total_conf,\r\n",
    "              total_conf_table, \"Mortes: \", total_deaths, total_deaths_table)\r\n",
    "        print(date, \"Gerado, checagem de resultados primeira página pdf pode apresentar falhas.\")\r\n",
    "\r\n",
    "    # Setting a filename\r\n",
    "    filename = f\"RO_{date}.csv\"\r\n",
    "\r\n",
    "    table.to_csv(filename, index=False)\r\n"
   ]
  }
 ],
 "metadata": {
  "interpreter": {
   "hash": "1c3b4f3a3e2c3e8780cfee43d81b915f3aa66dace7bef9eda32c5a7dd9110afb"
  },
  "kernelspec": {
   "display_name": "Python 3.8.8 64-bit ('webscreaping_venv': venv)",
   "name": "python3"
  },
  "language_info": {
   "name": "python",
   "version": ""
  },
  "orig_nbformat": 4
 },
 "nbformat": 4,
 "nbformat_minor": 2
}