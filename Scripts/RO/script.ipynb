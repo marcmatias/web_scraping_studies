{
 "cells": [
  {
   "cell_type": "code",
   "execution_count": 1,
   "metadata": {},
   "outputs": [
    {
     "data": {
      "text/plain": [
       "'pt_BR.utf8'"
      ]
     },
     "execution_count": 1,
     "metadata": {},
     "output_type": "execute_result"
    }
   ],
   "source": [
    "import camelot\r\n",
    "\r\n",
    "import os\r\n",
    "\r\n",
    "import pdfplumber\r\n",
    "import re\r\n",
    "import requests\r\n",
    "\r\n",
    "from pathlib import Path\r\n",
    "\r\n",
    "from io import BytesIO\r\n",
    "\r\n",
    "import datetime\r\n",
    "\r\n",
    "import locale\r\n",
    "\r\n",
    "# Set locale\r\n",
    "locale.setlocale(locale.LC_ALL, 'pt_BR.utf8')"
   ]
  },
  {
   "cell_type": "code",
   "execution_count": 2,
   "metadata": {},
   "outputs": [],
   "source": [
    "def pdf_tables(url):\r\n",
    "    \r\n",
    "    filename = Path('file.pdf')\r\n",
    "    response = requests.get(url)\r\n",
    "    filename.write_bytes(response.content)\r\n",
    "    \r\n",
    "    tables = camelot.read_pdf(\"file.pdf\", pages='3', strip_text=\".\", flavor='stream')\r\n",
    "\r\n",
    "    return tables"
   ]
  },
  {
   "cell_type": "code",
   "execution_count": 3,
   "metadata": {},
   "outputs": [],
   "source": [
    "def total_values_pdf(url):\r\n",
    "    # Request and Open PDF file\r\n",
    "    try:\r\n",
    "        rq = requests.get(url)\r\n",
    "        pdf_data = pdfplumber.open(BytesIO(rq.content))\r\n",
    "    except Exception as e:\r\n",
    "        print(e)\r\n",
    "\r\n",
    "    # Extracting data\r\n",
    "    pdf_data = pdf_data.pages[1].extract_text()\r\n",
    "\r\n",
    "    try:\r\n",
    "        total_death = re.findall(\r\n",
    "            r'^ÓBITOS\\s\\s(\\d{1,3}[.]\\d{1,3})', pdf_data, re.MULTILINE)[0]\r\n",
    "        total_confirmed = re.findall(\r\n",
    "            r'(^\\d{1,3}[.]\\d{1,3})[ ]{2}[A-Z]', pdf_data, re.MULTILINE)[0]\r\n",
    "    except IndexError:\r\n",
    "        total_confirmed = re.findall(\r\n",
    "            r'(^\\d{1,3}[.]\\d{1,3})\\s\\n', pdf_data, re.MULTILINE)[0]\r\n",
    "        \r\n",
    "    return [int(total_confirmed.replace(\".\", \"\")), int(total_death.replace(\".\", \"\"))]\r\n"
   ]
  },
  {
   "cell_type": "code",
   "execution_count": 4,
   "metadata": {},
   "outputs": [],
   "source": [
    "def add_new_row(data_frame, name_row, t_confirmado, t_obito):\r\n",
    "    data_frame.loc[-1] = [name_row, t_confirmado, t_obito]  # adding a row\r\n",
    "    data_frame.index = data_frame.index + 1  # shifting index\r\n",
    "    return data_frame.sort_index()  # sorting by index"
   ]
  },
  {
   "cell_type": "code",
   "execution_count": 5,
   "metadata": {},
   "outputs": [
    {
     "name": "stdout",
     "output_type": "stream",
     "text": [
      "2021-06-02 Success!!\n"
     ]
    }
   ],
   "source": [
    "dates = [\"2021-06-02\"]\r\n",
    "\r\n",
    "for date in dates:\r\n",
    "\r\n",
    "    day = date[8:]\r\n",
    "    month = date[5:7]\r\n",
    "    year = date[:4]\r\n",
    "\r\n",
    "    url_date = datetime.date(int(year), int(\r\n",
    "        month), int(day)).strftime('%d-de-%B-de-%Y')\r\n",
    "\r\n",
    "    url = f\"https://data.portal.sistemas.ro.gov.br/{year}/{month}/Relatorio-{url_date}.pdf\"\r\n",
    "\r\n",
    "    # Camelot pdf\r\n",
    "    tables = pdf_tables(url)\r\n",
    "\r\n",
    "    # Total confirmed and deaths\r\n",
    "    conf_first_page, deaths_first_page = total_values_pdf(url)\r\n",
    "\r\n",
    "    table = tables[0].df\r\n",
    "\r\n",
    "    # Rename columns\r\n",
    "    table = table[[0, 1, 2]].rename(\r\n",
    "        columns={0: \"municipio\", 1: \"confirmados\", 2: \"mortes\"})\r\n",
    "\r\n",
    "    while (table.at[0, \"municipio\"] == \"\" or\r\n",
    "           table.at[0, \"municipio\"] == \"Município\" or\r\n",
    "           table.at[0, \"municipio\"] == \"Municipio\"):\r\n",
    "        table = table.drop([0, 0]).reset_index(drop=True)\r\n",
    "\r\n",
    "    # Total values from lest row\r\n",
    "    last_row_df = table.iloc[-1].name\r\n",
    "    total_conf_table = table.at[last_row_df, \"confirmados\"]\r\n",
    "    total_deaths_gov = table.at[last_row_df, \"mortes\"]\r\n",
    "\r\n",
    "    # Remove unecessary 1 last lines\r\n",
    "    table.drop(table.tail(1).index, inplace=True)\r\n",
    "\r\n",
    "    # Create new column with no accents\r\n",
    "    table[\"new\"] = table[\"municipio\"].str.normalize('NFKD')\\\r\n",
    "        .str.encode('ascii', errors='ignore')\\\r\n",
    "        .str.decode('utf-8')\r\n",
    "\r\n",
    "    # Sort by new column with no accents, then drop\r\n",
    "    table = table.sort_values(\"new\", ascending=True)\\\r\n",
    "        .drop(\"new\", axis=1).reset_index(drop=True)\r\n",
    "\r\n",
    "    # Sum total numbers\r\n",
    "    total_conf = table[\"confirmados\"].astype(int).sum()\r\n",
    "    total_deaths = table[\"mortes\"].astype(int).sum()\r\n",
    "\r\n",
    "    # Adding new row to data_frame with total numbers\r\n",
    "    table = add_new_row(table, \"Importados/Indefinidos\", 0, 0)\r\n",
    "    table = add_new_row(table, \"TOTAL NO ESTADO\",\r\n",
    "                        total_conf, total_deaths)\r\n",
    "\r\n",
    "    # Totals results are equals confirmed and deaths\r\n",
    "    total_table_check = total_conf == int(\r\n",
    "        total_conf_table) and total_deaths == int(total_deaths_gov)\r\n",
    "    total_pdf_first_page_check = total_conf == conf_first_page and total_deaths == deaths_first_page\r\n",
    "\r\n",
    "    if total_table_check and total_pdf_first_page_check:\r\n",
    "        print(date, \"Success!!\")\r\n",
    "    else:\r\n",
    "        print(date, \"Resultados diferentes \", \"Confirmados: \", total_conf,\r\n",
    "              total_conf_table, conf_first_page, \"Mortes: \", total_deaths, total_deaths_gov, deaths_first_page)\r\n",
    "\r\n",
    "    # Setting a filename\r\n",
    "    filename = f\"RO_{date}.csv\"\r\n",
    "\r\n",
    "    os.remove(\"file.pdf\")\r\n",
    "\r\n",
    "    table.to_csv(filename, index=False)\r\n"
   ]
  }
 ],
 "metadata": {
  "interpreter": {
   "hash": "9bcfbcb8ab2cb80a481072a3cca9f0f9f1b765920b23f0e202d2d845decbede7"
  },
  "kernelspec": {
   "display_name": "Python 3.8.8 64-bit",
   "name": "python3"
  },
  "language_info": {
   "codemirror_mode": {
    "name": "ipython",
    "version": 3
   },
   "file_extension": ".py",
   "mimetype": "text/x-python",
   "name": "python",
   "nbconvert_exporter": "python",
   "pygments_lexer": "ipython3",
   "version": "3.8.8"
  },
  "metadata": {
   "interpreter": {
    "hash": "1c3b4f3a3e2c3e8780cfee43d81b915f3aa66dace7bef9eda32c5a7dd9110afb"
   }
  },
  "orig_nbformat": 3
 },
 "nbformat": 4,
 "nbformat_minor": 4
}